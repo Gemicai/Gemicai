{
 "cells": [
  {
   "cell_type": "markdown",
   "metadata": {},
   "source": [
    "# Gemicai tutorial 2. From data pre-processing to model evaluation\n",
    "In this tutorial we'll be developing a neural network to classify the orientation of a mammography image. To get a good understanding of the Gemicai library, this tutorial describes the full process of doing so, from data pre-processing to model evaluation. The tutorial will be structured as follows:\n",
    "\n",
    "[2.0 Preliminaries](#2.0)<br>\n",
    "[2.1 Data preproccessing](#2.0)<br>\n",
    "[2.2 Classifier initialization](#2.0)<br>\n",
    "[2.3 Hyper parameter optimisation](#2.0)<br>\n",
    "[2.4 Model evaluation](#2.0)"
   ]
  },
  {
   "cell_type": "markdown",
   "metadata": {},
   "source": [
    "## 2.0 Preliminaries\n",
    "<a id='2.0'></a>\n",
    "Some text"
   ]
  },
  {
   "cell_type": "code",
   "execution_count": 1,
   "metadata": {},
   "outputs": [],
   "source": [
    "import gemicai as gem\n",
    "import torch\n",
    "import torchvision.models as models"
   ]
  },
  {
   "cell_type": "code",
   "execution_count": 2,
   "metadata": {},
   "outputs": [],
   "source": [
    "relevant_dicom_attributes = ['BodyPartExamined', 'StudyDescription', 'SeriesDescription']\n",
    "\n",
    "train_dataset = '/mnt/SharedStor/train_dataset/MG/'\n",
    "eval_dataset = '/mnt/SharedStor/eval_dataset/MG/'\n",
    "hmm_dataset = '/mnt/SharedStor/dataset/MG/'\n",
    "\n",
    "resnet18 = models.resnet18(pretrained=True)\n",
    "\n",
    "\n",
    "\n",
    "# net = gem.Classifier(resnet18, dataset.classes('BodyPartExamined'), enable_cuda=False)"
   ]
  },
  {
   "cell_type": "markdown",
   "metadata": {},
   "source": [
    "## 2.1 Data preproccessing\n",
    "<a id='2.1'></a>\n",
    "This part of the tutorial is dedicated to showing how you can convert a folder with raw .dcm or .dcm.gz files into a dataset python can interact efficiently with.\n",
    "\n",
    "First, locate the Dicom files."
   ]
  },
  {
   "cell_type": "code",
   "execution_count": 3,
   "metadata": {},
   "outputs": [
    {
     "name": "stdout",
     "output_type": "stream",
     "text": [
      "| Extension   |   Files | Size    |\n",
      "|-------------+---------+---------|\n",
      "| .dcm.gz     |    1061 | 5.75 GB | \n",
      "\n"
     ]
    }
   ],
   "source": [
    "\n",
    "dicom_data = '/mnt/SharedStor/tutorials/Mammography/'\n",
    "\n",
    "# Let's find out how many dicom images we have.\n",
    "gem.utils.dir_info(dicom_data)\n"
   ]
  },
  {
   "cell_type": "markdown",
   "metadata": {},
   "source": [
    "Now create the Gemicai dataset (or gemset). With objects_per_file you can specify how many images you want stored to a .gemset file, if your computer can handle it, it might be more efficient to increase this number. For now let's set it to 100. When specifiy a value for test_split, a training set and test set will automatically be created. test_split must always be between 0 and 1. When not specified, a single dataset will be created."
   ]
  },
  {
   "cell_type": "code",
   "execution_count": 4,
   "metadata": {},
   "outputs": [],
   "source": [
    "\n",
    "gemset_destination = '/mnt/SharedStor/tutorials/MG_gemset'\n",
    "\n",
    "# Specify the relevant Dicom attributes you want to use.\n",
    "dicom_attributes = ['Modality', 'BodyPartExamined', 'StudyDescription', 'SeriesDescription']\n",
    "\n",
    "\n",
    "gem.dicom_to_gemset(data_origin=dicom_data, data_destination=gemset_destination, relevant_labels=dicom_attributes, \n",
    "                    objects_per_file=100, test_split=0.2, verbosity=1)\n"
   ]
  },
  {
   "cell_type": "markdown",
   "metadata": {},
   "source": [
    "Now lets inspect the created gemsets. As you can see, they take up a lot less space compared to the original Dicom files, (5.25GB -> 31.6MB) this matters espicially when training with large datasets. For the sake of the tutorial, lets only focus on correctly classifying the image orientation, which is usually stored in the SeriesDescription field. DicomoDataset.summarize() prints a table with all classes and their frequency.\n",
    "\n",
    "By setting test_split to 0.2, a train and test set were automatically created. "
   ]
  },
  {
   "cell_type": "code",
   "execution_count": 5,
   "metadata": {},
   "outputs": [
    {
     "name": "stdout",
     "output_type": "stream",
     "text": [
      "| Extension   |   Files | Size    |\n",
      "|-------------+---------+---------|\n",
      "| .gemset     |      11 | 31.6 MB | \n",
      "\n",
      "| Class (SeriesDescription)          |   Frequency |\n",
      "|------------------------------------+-------------|\n",
      "| R MLO                              |         227 |\n",
      "| R CC                               |         235 |\n",
      "| L CC                               |         219 |\n",
      "| None                               |          57 |\n",
      "| L LM                               |          12 |\n",
      "| L MLO                              |         218 |\n",
      "| L XCCL                             |          16 |\n",
      "| L SPECIMEN                         |          12 |\n",
      "| Mammografie SVOB beiderzijds       |           4 |\n",
      "| R SPECIMEN                         |          12 |\n",
      "| Mammopunctie stereotactisch rechts |           4 |\n",
      "| R LM                               |          11 |\n",
      "| R XCCL                             |          18 |\n",
      "| Mammopunctie stereotactisch links  |          10 |\n",
      "| R CCID                             |           2 |\n",
      "| Mammografie mammapoli beiderzijds  |           1 |\n",
      "| L CCID                             |           2 |\n",
      "| L MLOID                            |           1 |\n",
      "\n",
      "Total number of training images: 1061 \n",
      "Total number of classes: 18\n",
      "\n",
      "| Class (Modality)   |   Frequency |\n",
      "|--------------------+-------------|\n",
      "| MG                 |        1061 |\n",
      "\n",
      "Total number of training images: 1061 \n",
      "Total number of classes: 1\n",
      "\n"
     ]
    }
   ],
   "source": [
    "\n",
    "gem.utils.dir_info(gemset_destination)\n",
    "\n",
    "total_dataset = gem.DicomoDataset.get_dicomo_dataset(gemset_destination, labels=dicom_attributes)\n",
    "total_dataset.summarize('SeriesDescription')\n",
    "\n",
    "# You can summarize the dataset on any Dicom attributes specified in dicom_attributes when creating the gemset\n",
    "# As all images in this dataset are Mammography images, the Modality field will always be MG\n",
    "total_dataset.summarize('Modality')\n"
   ]
  },
  {
   "cell_type": "markdown",
   "metadata": {},
   "source": [
    "When inspecting the table, we can notice that some of these classes are low in frequency and seem out of place. To create a dataset with only the relevant classes, you can use GemicaiDataset.subset(), and pass a dictionary with constraints."
   ]
  },
  {
   "cell_type": "code",
   "execution_count": 6,
   "metadata": {},
   "outputs": [
    {
     "name": "stdout",
     "output_type": "stream",
     "text": [
      "| Class (SeriesDescription)   |   Frequency |\n",
      "|-----------------------------+-------------|\n",
      "| R MLO                       |         227 |\n",
      "| R CC                        |         235 |\n",
      "| L CC                        |         219 |\n",
      "| L LM                        |          12 |\n",
      "| L MLO                       |         218 |\n",
      "| L XCCL                      |          16 |\n",
      "| L SPECIMEN                  |          12 |\n",
      "| R SPECIMEN                  |          12 |\n",
      "| R LM                        |          11 |\n",
      "| R XCCL                      |          18 |\n",
      "\n",
      "Total number of training images: 980 \n",
      "Total number of classes: 10\n",
      "\n"
     ]
    }
   ],
   "source": [
    "\n",
    "# These are all orientations we are interested in classifing.\n",
    "orientations = ['L MLO', 'R MLO', 'L CC', 'R CC', 'L LM', 'R LM', 'L XCCL', 'R XCCL', 'L SPECIMEN', 'R SPECIMEN']\n",
    "\n",
    "constraints = {\n",
    "    'Modality': 'MG',\n",
    "    'SeriesDescription': orientations,\n",
    "}\n",
    "\n",
    "subset = total_dataset.subset(constraints)\n",
    "\n",
    "subset.summarize('SeriesDescription')\n"
   ]
  },
  {
   "cell_type": "markdown",
   "metadata": {},
   "source": [
    "Earlier when we created the new gemset, we specified a value test_split, this means automatically a train and test set are contructed. By default, they are placed in destination + '/train' or + '/test'"
   ]
  },
  {
   "cell_type": "code",
   "execution_count": 15,
   "metadata": {},
   "outputs": [
    {
     "name": "stdout",
     "output_type": "stream",
     "text": [
      "| Class (SeriesDescription)   |   Frequency |\n",
      "|-----------------------------+-------------|\n",
      "| R MLO                       |         172 |\n",
      "| R CC                        |         173 |\n",
      "| L CC                        |         168 |\n",
      "| L LM                        |           8 |\n",
      "| L MLO                       |         160 |\n",
      "| L XCCL                      |          12 |\n",
      "| L SPECIMEN                  |           9 |\n",
      "| R SPECIMEN                  |          10 |\n",
      "| R LM                        |           9 |\n",
      "| R XCCL                      |          14 |\n",
      "\n",
      "Total number of training images: 735 \n",
      "Total number of classes: 10\n",
      "\n",
      "| Class (SeriesDescription)   |   Frequency |\n",
      "|-----------------------------+-------------|\n",
      "| L MLO                       |          58 |\n",
      "| R CC                        |          62 |\n",
      "| L CC                        |          51 |\n",
      "| R MLO                       |          55 |\n",
      "| L LM                        |           4 |\n",
      "| R LM                        |           2 |\n",
      "| R SPECIMEN                  |           2 |\n",
      "| L SPECIMEN                  |           3 |\n",
      "| L XCCL                      |           4 |\n",
      "| R XCCL                      |           4 |\n",
      "\n",
      "Total number of training images: 245 \n",
      "Total number of classes: 10\n",
      "\n"
     ]
    }
   ],
   "source": [
    "\n",
    "# Initialize both test and train set, if you also want to use the dataset for training classifiers\n",
    "trainset = gem.DicomoDataset.get_dicomo_dataset(gemset_destination+'/train', labels=['SeriesDescription'])\n",
    "testset = gem.DicomoDataset.get_dicomo_dataset(gemset_destination+'/test', labels=['SeriesDescription'])\n",
    "\n",
    "# Apply same contraints to the sets\n",
    "trainset = trainset.subset(constraints)\n",
    "testset = testset.subset(constraints)\n",
    "\n",
    "# Summarize both sets to inspect if the classes are evenly distributed.\n",
    "trainset.summarize('SeriesDescription')\n",
    "testset.summarize('SeriesDescription')\n"
   ]
  },
  {
   "cell_type": "markdown",
   "metadata": {},
   "source": [
    "## 2.2 Classifier initialization\n",
    "<a id='2.2'></a>\n",
    "Now that we're done with data preprocessing, we can move on to creating a Classifier."
   ]
  },
  {
   "cell_type": "code",
   "execution_count": 21,
   "metadata": {},
   "outputs": [
    {
     "name": "stdout",
     "output_type": "stream",
     "text": [
      "['R MLO', 'R CC', 'L CC', 'L LM', 'L MLO', 'L XCCL', 'L SPECIMEN', 'R SPECIMEN', 'R LM', 'R XCCL']\n"
     ]
    }
   ],
   "source": [
    "resnet18 = models.resnet18(pretrained=True)\n",
    "\n",
    "classes = trainset.classes('SeriesDescription')\n",
    "print(classes)\n",
    "\n",
    "net = gem.Classifier(resnet18, classes, enable_cuda=True)"
   ]
  },
  {
   "cell_type": "code",
   "execution_count": 22,
   "metadata": {},
   "outputs": [
    {
     "name": "stdout",
     "output_type": "stream",
     "text": [
      "| Epoch | Avg. loss | Train Acc. | Test Acc.  | Elapsed  |   ETA    |\n",
      "|-------+-----------+------------+------------+----------+----------|\n",
      "|     1 | 0.0988453 | 92.93%     | 91.84%     | 00:00:04 | 20:59:50 |\n",
      "|     2 | 0.0528577 | 92.24%     | 91.84%     | 00:00:06 | 21:00:54 |\n",
      "|     3 | 0.0367572 | 93.2%      | 91.02%     | 00:00:06 | 21:01:00 |\n",
      "|     4 | 0.0231267 | 94.42%     | 92.65%     | 00:00:07 | 21:01:14 |\n",
      "|     5 | 0.0142484 | 97.69%     | 93.88%     | 00:00:07 | 21:01:15 |\n",
      "|     6 | 0.0106054 | 96.19%     | 91.02%     | 00:00:07 | 21:01:06 |\n",
      "|     7 | 0.0051369 | 94.29%     | 88.16%     | 00:00:07 | 21:01:04 |\n",
      "|     8 | 0.0034328 | 99.18%     | 93.88%     | 00:00:06 | 21:01:00 |\n",
      "|     9 | 0.0047199 | 96.46%     | 90.2%      | 00:00:06 | 21:00:59 |\n",
      "|    10 | 0.0042696 | 96.33%     | 93.06%     | 00:00:07 | 21:01:04 |\n",
      "|    11 | 0.0118818 | 98.37%     | 93.88%     | 00:00:07 | 21:01:06 |\n",
      "|    12 | 0.0085137 | 98.5%      | 93.47%     | 00:00:07 | 21:01:09 |\n",
      "|    13 | 0.0146766 | 91.7%      | 84.9%      | 00:00:06 | 21:00:58 |\n",
      "|    14 | 0.0089125 | 99.86%     | 94.69%     | 00:00:06 | 21:00:58 |\n",
      "|    15 | 0.0016834 | 99.18%     | 94.29%     | 00:00:06 | 21:01:02 |\n",
      "|    16 | 0.0009741 | 99.73%     | 95.1%      | 00:00:07 | 21:01:10 |\n",
      "|    17 | 0.0007921 | 99.86%     | 93.06%     | 00:00:08 | 21:01:18 |\n",
      "|    18 | 0.0001102 | 100.0%     | 94.69%     | 00:00:08 | 21:01:17 |\n",
      "|    19 | 0.0000362 | 100.0%     | 94.69%     | 00:00:09 | 21:01:29 |\n",
      "|    20 | 0.0000206 | 100.0%     | 95.1%      | 00:00:08 | 21:01:21 |\n",
      "|    21 | 0.0000162 | 100.0%     | 95.1%      | 00:00:08 | 21:01:21 |\n",
      "|    22 | 0.0000134 | 100.0%     | 95.1%      | 00:00:08 | 21:01:19 |\n",
      "|    23 | 0.0000114 | 100.0%     | 95.1%      | 00:00:08 | 21:01:18 |\n",
      "|    24 | 0.0000099 | 100.0%     | 95.1%      | 00:00:09 | 21:01:21 |\n",
      "|    25 | 0.0000088 | 100.0%     | 95.1%      | 00:00:07 | 21:01:17 |\n",
      "Training finished, total time elapsed: 0:00:02.729751\n"
     ]
    }
   ],
   "source": [
    "net.train(trainset, epochs=25, test_dataset=testset, verbosity=2)"
   ]
  },
  {
   "cell_type": "markdown",
   "metadata": {},
   "source": [
    "## 2.3 Hyper parameter optimisation\n",
    "<a id='2.3'></a>\n",
    "Lets try with different types of neural networks, optimizers and loss_functions to see if we can get even better resutls!"
   ]
  },
  {
   "cell_type": "code",
   "execution_count": 49,
   "metadata": {},
   "outputs": [
    {
     "name": "stdout",
     "output_type": "stream",
     "text": [
      "| Epoch | Avg. loss | Train Acc. | Test Acc.  | Elapsed  |   ETA    |\n",
      "|-------+-----------+------------+------------+----------+----------|\n",
      "|     1 | 0.1390708 | 79.59%     | 75.1%      | 00:00:12 | 22:13:27 |\n",
      "|     2 | 0.0987824 | 88.3%      | 88.16%     | 00:00:17 | 22:17:43 |\n",
      "|     3 | 0.0610661 | 88.57%     | 87.76%     | 00:00:17 | 22:17:27 |\n",
      "|     4 | 0.0514457 | 89.12%     | 87.35%     | 00:00:17 | 22:17:55 |\n",
      "|     5 | 0.0473843 | 88.03%     | 85.71%     | 00:00:16 | 22:17:15 |\n",
      "|     6 | 0.0450413 | 92.38%     | 91.43%     | 00:00:16 | 22:17:15 |\n",
      "|     7 | 0.0442513 | 92.52%     | 92.24%     | 00:00:16 | 22:17:15 |\n",
      "|     8 | 0.0361849 | 90.61%     | 87.76%     | 00:00:16 | 22:17:16 |\n",
      "|     9 | 0.0332840 | 84.76%     | 81.63%     | 00:00:16 | 22:17:17 |\n",
      "|    10 | 0.0351732 | 93.2%      | 92.65%     | 00:00:16 | 22:17:20 |\n",
      "|    11 | 0.0279580 | 91.97%     | 88.98%     | 00:00:16 | 22:17:13 |\n",
      "|    12 | 0.0264838 | 94.83%     | 93.06%     | 00:00:16 | 22:17:13 |\n",
      "|    13 | 0.0215708 | 94.29%     | 91.02%     | 00:00:16 | 22:17:11 |\n",
      "|    14 | 0.0231391 | 95.24%     | 93.47%     | 00:00:16 | 22:17:17 |\n",
      "|    15 | 0.0237198 | 90.61%     | 88.16%     | 00:00:16 | 22:17:16 |\n",
      "|    16 | 0.0231287 | 94.83%     | 91.43%     | 00:00:17 | 22:17:25 |\n",
      "|    17 | 0.0214951 | 97.28%     | 93.47%     | 00:00:17 | 22:17:24 |\n",
      "|    18 | 0.0203952 | 95.92%     | 93.47%     | 00:00:16 | 22:17:14 |\n",
      "|    19 | 0.0161106 | 98.5%      | 95.92%     | 00:00:16 | 22:17:15 |\n",
      "|    20 | 0.0099705 | 94.56%     | 89.8%      | 00:00:16 | 22:17:14 |\n",
      "|    21 | 0.0139917 | 98.23%     | 93.88%     | 00:00:17 | 22:17:40 |\n",
      "|    22 | 0.0086893 | 97.69%     | 93.88%     | 00:00:17 | 22:17:52 |\n",
      "|    23 | 0.0166129 | 97.14%     | 95.51%     | 00:00:17 | 22:17:33 |\n",
      "|    24 | 0.0094039 | 97.82%     | 92.24%     | 00:00:17 | 22:17:27 |\n",
      "|    25 | 0.0084492 | 98.78%     | 95.51%     | 00:00:18 | 22:17:57 |\n",
      "|    26 | 0.0034155 | 99.73%     | 97.14%     | 00:00:17 | 22:17:41 |\n",
      "|    27 | 0.0048658 | 97.14%     | 93.88%     | 00:00:19 | 22:18:40 |\n",
      "|    28 | 0.0069876 | 98.91%     | 95.51%     | 00:00:17 | 22:17:33 |\n",
      "|    29 | 0.0042050 | 99.73%     | 95.1%      | 00:00:17 | 22:17:52 |\n",
      "|    30 | 0.0007075 | 99.86%     | 97.14%     | 00:00:17 | 22:17:45 |\n",
      "|    31 | 0.0169164 | 94.56%     | 91.43%     | 00:00:17 | 22:17:52 |\n",
      "|    32 | 0.0163102 | 98.1%      | 95.51%     | 00:00:17 | 22:17:35 |\n",
      "|    33 | 0.0056065 | 99.05%     | 95.92%     | 00:00:17 | 22:17:50 |\n",
      "|    34 | 0.0053428 | 98.64%     | 95.92%     | 00:00:17 | 22:17:49 |\n",
      "|    35 | 0.0196163 | 97.01%     | 93.47%     | 00:00:18 | 22:17:52 |\n",
      "|    36 | 0.0062391 | 98.64%     | 93.88%     | 00:00:17 | 22:17:47 |\n",
      "|    37 | 0.0008963 | 100.0%     | 97.55%     | 00:00:18 | 22:17:59 |\n",
      "|    38 | 0.0002036 | 100.0%     | 97.96%     | 00:00:18 | 22:17:55 |\n",
      "|    39 | 0.0000921 | 100.0%     | 97.96%     | 00:00:17 | 22:17:51 |\n",
      "|    40 | 0.0000580 | 100.0%     | 97.96%     | 00:00:17 | 22:17:48 |\n",
      "|    41 | 0.0000414 | 100.0%     | 97.55%     | 00:00:18 | 22:18:01 |\n",
      "|    42 | 0.0000310 | 100.0%     | 97.55%     | 00:00:17 | 22:17:52 |\n",
      "|    43 | 0.0000240 | 100.0%     | 97.55%     | 00:00:17 | 22:17:44 |\n",
      "|    44 | 0.0000190 | 100.0%     | 97.55%     | 00:00:17 | 22:17:50 |\n",
      "|    45 | 0.0000153 | 100.0%     | 97.55%     | 00:00:17 | 22:17:48 |\n",
      "|    46 | 0.0000125 | 100.0%     | 97.55%     | 00:00:18 | 22:17:54 |\n",
      "|    47 | 0.0000103 | 100.0%     | 97.55%     | 00:00:17 | 22:17:48 |\n",
      "|    48 | 0.0000086 | 100.0%     | 97.55%     | 00:00:18 | 22:17:51 |\n",
      "|    49 | 0.0000072 | 100.0%     | 97.55%     | 00:00:19 | 22:17:55 |\n",
      "|    50 | 0.0000061 | 100.0%     | 97.55%     | 00:00:18 | 22:17:52 |\n",
      "Training finished, total time elapsed: 0:00:05.718670\n"
     ]
    }
   ],
   "source": [
    "resnext = models.resnext50_32x4d(pretrained=False)\n",
    "\n",
    "net2 = gem.Classifier(resnext, classes, enable_cuda=True)\n",
    "\n",
    "net2.loss_function = torch.nn.CrossEntropyLoss()\n",
    "net2.optimizer = torch.optim.Adam(net2.module.parameters(), lr=0.0001)\n",
    "                                  \n",
    "net2.train(trainset, epochs=50, test_dataset=testset, verbosity=2)          "
   ]
  },
  {
   "cell_type": "code",
   "execution_count": 30,
   "metadata": {},
   "outputs": [
    {
     "name": "stdout",
     "output_type": "stream",
     "text": [
      "| Epoch | Avg. loss | Train Acc. | Test Acc.  | Elapsed  |   ETA    |\n",
      "|-------+-----------+------------+------------+----------+----------|\n",
      "|     1 | 0.0654231 | 96.05%     | 93.06%     | 00:00:11 | 21:39:51 |\n",
      "|     2 | 0.0490198 | 92.52%     | 90.61%     | 00:00:16 | 21:40:38 |\n",
      "|     3 | 0.0307269 | 92.93%     | 92.24%     | 00:00:16 | 21:40:40 |\n",
      "|     4 | 0.0237963 | 94.56%     | 92.24%     | 00:00:16 | 21:40:40 |\n",
      "|     5 | 0.0165553 | 96.46%     | 93.88%     | 00:00:16 | 21:40:39 |\n",
      "|     6 | 0.0151506 | 96.46%     | 93.06%     | 00:00:16 | 21:40:39 |\n",
      "|     7 | 0.0141630 | 96.6%      | 93.47%     | 00:00:16 | 21:40:41 |\n",
      "|     8 | 0.0100808 | 93.33%     | 90.2%      | 00:00:16 | 21:40:43 |\n",
      "|     9 | 0.0117165 | 98.37%     | 93.47%     | 00:00:16 | 21:40:41 |\n",
      "|    10 | 0.0087556 | 96.33%     | 93.88%     | 00:00:16 | 21:40:41 |\n",
      "Training finished, total time elapsed: 0:00:05.302331\n"
     ]
    }
   ],
   "source": [
    "net2.train(trainset, epochs=10, test_dataset=testset, verbosity=2)  "
   ]
  },
  {
   "cell_type": "code",
   "execution_count": 41,
   "metadata": {},
   "outputs": [],
   "source": [
    "shufflenet = models.shufflenet_v2_x1_0(pretrained=False)\n",
    "\n",
    "net3 = gem.Classifier(shufflenet, classes, enable_cuda=True)\n",
    "\n",
    "net3.loss_function = torch.nn.CrossEntropyLoss()\n",
    "net3.optimizer = torch.optim.Adam(net3.module.parameters(), lr=0.001)"
   ]
  },
  {
   "cell_type": "code",
   "execution_count": 43,
   "metadata": {},
   "outputs": [
    {
     "name": "stdout",
     "output_type": "stream",
     "text": [
      "| Epoch | Avg. loss | Train Acc. | Test Acc.  | Elapsed  |   ETA    |\n",
      "|-------+-----------+------------+------------+----------+----------|\n",
      "|     1 | 0.0921644 | 92.24%     | 90.2%      | 00:00:07 | 21:57:55 |\n",
      "|     2 | 0.0341167 | 94.69%     | 92.65%     | 00:00:10 | 21:59:05 |\n",
      "|     3 | 0.0194131 | 96.6%      | 91.02%     | 00:00:13 | 22:00:08 |\n",
      "|     4 | 0.0166842 | 92.24%     | 91.02%     | 00:00:11 | 21:59:34 |\n",
      "|     5 | 0.0179728 | 98.23%     | 93.06%     | 00:00:12 | 21:59:43 |\n",
      "|     6 | 0.0085434 | 97.41%     | 91.84%     | 00:00:11 | 21:59:19 |\n",
      "|     7 | 0.0086465 | 99.46%     | 93.47%     | 00:00:10 | 21:59:16 |\n",
      "|     8 | 0.0067354 | 96.6%      | 92.65%     | 00:00:10 | 21:59:16 |\n",
      "|     9 | 0.0106809 | 98.5%      | 93.88%     | 00:00:10 | 21:59:14 |\n",
      "|    10 | 0.0108071 | 98.78%     | 93.88%     | 00:00:10 | 21:59:16 |\n",
      "|    11 | 0.0054363 | 99.32%     | 94.29%     | 00:00:10 | 21:59:13 |\n",
      "|    12 | 0.0050766 | 99.46%     | 95.1%      | 00:00:10 | 21:59:15 |\n",
      "|    13 | 0.0168497 | 96.33%     | 91.84%     | 00:00:11 | 21:59:25 |\n",
      "|    14 | 0.0104123 | 91.84%     | 90.61%     | 00:00:11 | 21:59:19 |\n",
      "|    15 | 0.0040014 | 99.59%     | 95.1%      | 00:00:11 | 21:59:19 |\n",
      "|    16 | 0.0015684 | 99.18%     | 94.69%     | 00:00:11 | 21:59:20 |\n",
      "|    17 | 0.0157325 | 95.65%     | 91.02%     | 00:00:10 | 21:59:17 |\n",
      "|    18 | 0.0159742 | 97.96%     | 93.88%     | 00:00:11 | 21:59:20 |\n",
      "|    19 | 0.0049273 | 97.28%     | 91.84%     | 00:00:11 | 21:59:19 |\n",
      "|    20 | 0.0049461 | 100.0%     | 96.33%     | 00:00:11 | 21:59:21 |\n",
      "|    21 | 0.0004586 | 100.0%     | 96.33%     | 00:00:10 | 21:59:18 |\n",
      "|    22 | 0.0000721 | 100.0%     | 96.33%     | 00:00:10 | 21:59:18 |\n",
      "|    23 | 0.0000248 | 100.0%     | 96.33%     | 00:00:11 | 21:59:19 |\n",
      "|    24 | 0.0000173 | 100.0%     | 96.33%     | 00:00:12 | 21:59:23 |\n",
      "|    25 | 0.0000131 | 100.0%     | 96.33%     | 00:00:11 | 21:59:21 |\n",
      "Training finished, total time elapsed: 0:00:05.313360\n"
     ]
    }
   ],
   "source": [
    "net3.train(trainset, epochs=25, test_dataset=testset, verbosity=2)"
   ]
  },
  {
   "cell_type": "code",
   "execution_count": 50,
   "metadata": {},
   "outputs": [
    {
     "name": "stdout",
     "output_type": "stream",
     "text": [
      "| Extension   |   Files | Size     |\n",
      "|-------------+---------+----------|\n",
      "| .gemclas    |       3 | 338.5 MB | \n",
      "\n"
     ]
    }
   ],
   "source": [
    "net.save('/mnt/SharedStor/tutorials/classifiers/resnet18')\n",
    "net2.save('/mnt/SharedStor/tutorials/classifiers/resnext')\n",
    "net3.save('/mnt/SharedStor/tutorials/classifiers/shuffle')\n",
    "\n",
    "gem.utils.dir_info('/mnt/SharedStor/tutorials/classifiers')"
   ]
  },
  {
   "cell_type": "markdown",
   "metadata": {},
   "source": [
    "## 2.4 Model evaluation\n",
    "<a id='2.4'></a>\n",
    "Finally, lets evaluate the classifiers"
   ]
  },
  {
   "cell_type": "code",
   "execution_count": 52,
   "metadata": {},
   "outputs": [
    {
     "name": "stdout",
     "output_type": "stream",
     "text": [
      "Total: 245 -- Correct: 233 -- Accuracy: 95.1%\n",
      "\n",
      "| Class      |   Total |   Correct | Acc    |\n",
      "|------------+---------+-----------+--------|\n",
      "| R MLO      |      55 |        55 | 100.0% |\n",
      "| R CC       |      62 |        62 | 100.0% |\n",
      "| L CC       |      51 |        51 | 100.0% |\n",
      "| L LM       |       4 |         2 | 50.0%  |\n",
      "| L MLO      |      58 |        57 | 98.3%  |\n",
      "| L XCCL     |       4 |         0 | 0.0%   |\n",
      "| L SPECIMEN |       3 |         1 | 33.3%  |\n",
      "| R SPECIMEN |       2 |         2 | 100.0% |\n",
      "| R LM       |       2 |         2 | 100.0% |\n",
      "| R XCCL     |       4 |         1 | 25.0%  | \n",
      "\n",
      "Total: 245 -- Correct: 239 -- Accuracy: 97.55%\n",
      "\n",
      "| Class      |   Total |   Correct | Acc    |\n",
      "|------------+---------+-----------+--------|\n",
      "| R MLO      |      55 |        54 | 98.2%  |\n",
      "| R CC       |      62 |        62 | 100.0% |\n",
      "| L CC       |      51 |        50 | 98.0%  |\n",
      "| L LM       |       4 |         4 | 100.0% |\n",
      "| L MLO      |      58 |        57 | 98.3%  |\n",
      "| L XCCL     |       4 |         3 | 75.0%  |\n",
      "| L SPECIMEN |       3 |         3 | 100.0% |\n",
      "| R SPECIMEN |       2 |         2 | 100.0% |\n",
      "| R LM       |       2 |         2 | 100.0% |\n",
      "| R XCCL     |       4 |         2 | 50.0%  | \n",
      "\n",
      "Total: 245 -- Correct: 236 -- Accuracy: 96.33%\n",
      "\n",
      "| Class      |   Total |   Correct | Acc    |\n",
      "|------------+---------+-----------+--------|\n",
      "| R MLO      |      55 |        54 | 98.2%  |\n",
      "| R CC       |      62 |        62 | 100.0% |\n",
      "| L CC       |      51 |        51 | 100.0% |\n",
      "| L LM       |       4 |         3 | 75.0%  |\n",
      "| L MLO      |      58 |        57 | 98.3%  |\n",
      "| L XCCL     |       4 |         3 | 75.0%  |\n",
      "| L SPECIMEN |       3 |         1 | 33.3%  |\n",
      "| R SPECIMEN |       2 |         2 | 100.0% |\n",
      "| R LM       |       2 |         1 | 50.0%  |\n",
      "| R XCCL     |       4 |         2 | 50.0%  | \n",
      "\n"
     ]
    },
    {
     "data": {
      "text/plain": [
       "96.33"
      ]
     },
     "execution_count": 52,
     "metadata": {},
     "output_type": "execute_result"
    }
   ],
   "source": [
    "net.evaluate(testset, verbosity=1)\n",
    "net.evaluate(testset, verbosity=2)\n",
    "\n",
    "net2.evaluate(testset, verbosity=1)\n",
    "net2.evaluate(testset, verbosity=2)\n",
    "\n",
    "net3.evaluate(testset, verbosity=1)\n",
    "net3.evaluate(testset, verbosity=2)"
   ]
  },
  {
   "cell_type": "code",
   "execution_count": null,
   "metadata": {},
   "outputs": [],
   "source": []
  }
 ],
 "metadata": {
  "kernelspec": {
   "display_name": "Python 3",
   "language": "python",
   "name": "python3"
  },
  "language_info": {
   "codemirror_mode": {
    "name": "ipython",
    "version": 3
   },
   "file_extension": ".py",
   "mimetype": "text/x-python",
   "name": "python",
   "nbconvert_exporter": "python",
   "pygments_lexer": "ipython3",
   "version": "3.8.5"
  }
 },
 "nbformat": 4,
 "nbformat_minor": 4
}
