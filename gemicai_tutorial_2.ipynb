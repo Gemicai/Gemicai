{
 "cells": [
  {
   "cell_type": "markdown",
   "metadata": {},
   "source": [
    "# Gemicai tutorial 2. From data pre-processing to model evaluation\n",
    "In this tutorial we'll be developing a neural network to classify the orientation of a mammography image. To get a good understanding of the Gemicai library, this tutorial describes the full process of doing so, from data pre-processing to model evaluation. The tutorial will be structured as follows:\n",
    "\n",
    "[2.0 Preliminaries](#2.0)<br>\n",
    "[2.1 Data preproccessing](#2.0)<br>\n",
    "[2.2 Classifier initialization](#2.0)<br>\n",
    "[2.3 Hyper parameter optimisation](#2.0)<br>\n",
    "[2.4 Model evaluation](#2.0)"
   ]
  },
  {
   "cell_type": "markdown",
   "metadata": {},
   "source": [
    "## 2.0 Preliminaries\n",
    "<a id='2.0'></a>\n",
    "Some text"
   ]
  },
  {
   "cell_type": "code",
   "execution_count": 13,
   "metadata": {},
   "outputs": [],
   "source": [
    "import gemicai as gem\n",
    "import torch\n",
    "import torchvision.models as models"
   ]
  },
  {
   "cell_type": "code",
   "execution_count": 10,
   "metadata": {},
   "outputs": [],
   "source": [
    "relevant_dicom_attributes = ['BodyPartExamined', 'StudyDescription', 'SeriesDescription']\n",
    "\n",
    "train_dataset = '/mnt/SharedStor/train_dataset/MG/'\n",
    "eval_dataset = '/mnt/SharedStor/eval_dataset/MG/'\n",
    "hmm_dataset = '/mnt/SharedStor/dataset/MG/'\n",
    "\n",
    "resnet18 = models.resnet18(pretrained=True)\n",
    "\n",
    "\n",
    "\n",
    "# net = gem.Classifier(resnet18, dataset.classes('BodyPartExamined'), enable_cuda=False)"
   ]
  },
  {
   "cell_type": "code",
   "execution_count": 11,
   "metadata": {},
   "outputs": [
    {
     "name": "stdout",
     "output_type": "stream",
     "text": [
      "| Class                              |   Frequency |\n",
      "|------------------------------------+-------------|\n",
      "| Mammografie SVOB beiderzijds       |          28 |\n",
      "| Mammografie beiderzijds            |         256 |\n",
      "| Mammopunctie stereotactisch links  |          54 |\n",
      "| Mammografie mammapoli beiderzijds  |         196 |\n",
      "| Copie SVOB                         |          93 |\n",
      "| Mammografie follow up rechts       |          51 |\n",
      "| Echo lokalisatie mammatumor links  |           4 |\n",
      "| Mammografie na lokalisatie links   |           6 |\n",
      "| Mammografie follow up bdz          |         254 |\n",
      "| Mammografie follow up links        |          37 |\n",
      "| Preparaat                          |          19 |\n",
      "| Mammografie na lokalisatie rechts  |          16 |\n",
      "| Mammopunctie stereotactisch rechts |          23 |\n",
      "| Mammografie mammapoli rechts       |           3 |\n",
      "| Mammografie links                  |           6 |\n",
      "| Mammografie rechts                 |           7 |\n",
      "| Echo mamma beiderzijds             |           4 |\n",
      "| Mammografie mammapoli links        |           4 |\n",
      "Total number of training images: 1061 \n",
      "Total number of classes: 18\n",
      "\n",
      "| Class                              |   Frequency |\n",
      "|------------------------------------+-------------|\n",
      "| Mammografie beiderzijds            |         127 |\n",
      "| Mammografie follow up bdz          |         115 |\n",
      "| Mammografie na lokalisatie rechts  |           4 |\n",
      "| Mammopunctie stereotactisch links  |          33 |\n",
      "| Mammografie SVOB beiderzijds       |          12 |\n",
      "| Mammografie mammapoli rechts       |           3 |\n",
      "| Preparaat                          |           9 |\n",
      "| Mammografie mammapoli beiderzijds  |          69 |\n",
      "| Mammografie follow up rechts       |          19 |\n",
      "| Copie SVOB                         |          39 |\n",
      "| Mammografie rechts                 |           5 |\n",
      "| Echo mamma beiderzijds             |           4 |\n",
      "| Mammografie mammapoli links        |           4 |\n",
      "| Mammografie follow up links        |           4 |\n",
      "| Mammopunctie stereotactisch rechts |          12 |\n",
      "| Mammografie links                  |           2 |\n",
      "Total number of training images: 461 \n",
      "Total number of classes: 16\n",
      "\n",
      "| Class                              |   Frequency |\n",
      "|------------------------------------+-------------|\n",
      "| Mammografie SVOB beiderzijds       |          16 |\n",
      "| Mammografie beiderzijds            |         129 |\n",
      "| Mammopunctie stereotactisch links  |          21 |\n",
      "| Mammografie mammapoli beiderzijds  |         127 |\n",
      "| Copie SVOB                         |          54 |\n",
      "| Mammografie follow up rechts       |          32 |\n",
      "| Echo lokalisatie mammatumor links  |           4 |\n",
      "| Mammografie na lokalisatie links   |           6 |\n",
      "| Mammografie follow up bdz          |         139 |\n",
      "| Mammografie follow up links        |          33 |\n",
      "| Preparaat                          |          10 |\n",
      "| Mammografie na lokalisatie rechts  |          12 |\n",
      "| Mammopunctie stereotactisch rechts |          11 |\n",
      "| Mammografie links                  |           4 |\n",
      "| Mammografie rechts                 |           2 |\n",
      "Total number of training images: 600 \n",
      "Total number of classes: 15\n",
      "\n"
     ]
    }
   ],
   "source": [
    "dataset = gem.DicomoDataset.get_dicomo_dataset(train_dataset, labels=relevant_dicom_attributes)\n",
    "dataset.summarize('StudyDescription')\n",
    "dataset = gem.DicomoDataset.get_dicomo_dataset(eval_dataset, labels=relevant_dicom_attributes)\n",
    "dataset.summarize('StudyDescription')\n",
    "dataset = gem.DicomoDataset.get_dicomo_dataset(hmm_dataset, labels=relevant_dicom_attributes)\n",
    "dataset.summarize('StudyDescription')"
   ]
  },
  {
   "cell_type": "code",
   "execution_count": null,
   "metadata": {},
   "outputs": [],
   "source": []
  }
 ],
 "metadata": {
  "kernelspec": {
   "display_name": "Python 3",
   "language": "python",
   "name": "python3"
  },
  "language_info": {
   "codemirror_mode": {
    "name": "ipython",
    "version": 3
   },
   "file_extension": ".py",
   "mimetype": "text/x-python",
   "name": "python",
   "nbconvert_exporter": "python",
   "pygments_lexer": "ipython3",
   "version": "3.8.5"
  }
 },
 "nbformat": 4,
 "nbformat_minor": 4
}
