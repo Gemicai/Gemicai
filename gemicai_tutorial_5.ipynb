{
 "cells": [
  {
   "cell_type": "markdown",
   "metadata": {},
   "source": [
    "# Gemicai tutorial 5: ClassifierTree\n",
    "In this tutorial everything concerning the ClassifierTree will be explained"
   ]
  },
  {
   "cell_type": "code",
   "execution_count": 1,
   "metadata": {},
   "outputs": [],
   "source": [
    "import gemicai as gem\n",
    "import torch\n",
    "import torchvision.models as models"
   ]
  },
  {
   "cell_type": "markdown",
   "metadata": {},
   "source": [
    "## 3.1 Initialising ClassifierTree\n",
    "First, we have to initialize the tree, to do this we need the following parameters"
   ]
  },
  {
   "cell_type": "markdown",
   "metadata": {},
   "source": [
    "## 3.2 Training the tree\n",
    "To train the tree, first retrive it from its directory"
   ]
  },
  {
   "cell_type": "code",
   "execution_count": 2,
   "metadata": {},
   "outputs": [
    {
     "name": "stdout",
     "output_type": "stream",
     "text": [
      "|   Depth | Label            |   Classifiers |   Avg. classes |\n",
      "|---------+------------------+---------------+----------------|\n",
      "|       0 | BodyPartExamined |             1 |           21   |\n",
      "|       1 | StudyDescription |            20 |            9.7 |\n"
     ]
    }
   ],
   "source": [
    "dx_tree_path = '/mnt/SharedStor/trees/dx_tree'\n",
    "\n",
    "tree = gem.ClassifierTree.from_dir(dx_tree_path)\n",
    "\n",
    "print(tree)"
   ]
  },
  {
   "cell_type": "markdown",
   "metadata": {},
   "source": [
    "To train the whole tree at once, simply use the train function. We also need a dataset, to learn more about datasets check out tutorial 3"
   ]
  },
  {
   "cell_type": "code",
   "execution_count": 3,
   "metadata": {},
   "outputs": [],
   "source": [
    "\n",
    "dataset_path = '/mnt/SharedStor/train_dataset/DX/'\n",
    "relevant_labels = ['BodyPartExamined', 'StudyDescription']\n",
    "dataset = gem.DicomoDataset.get_dicomo_dataset(dataset_path, labels=relevant_labels)\n",
    "\n",
    "# tree.train(dataset, epochs=2)\n"
   ]
  },
  {
   "cell_type": "markdown",
   "metadata": {},
   "source": [
    "Training a ClassifierTree like this is a good start, but to get the most out of your tree the indidual nodes will need tweaking. To inspect the accuracy, of the tree, and where it needs tweaking, call evaluate."
   ]
  },
  {
   "cell_type": "code",
   "execution_count": 4,
   "metadata": {},
   "outputs": [
    {
     "name": "stdout",
     "output_type": "stream",
     "text": [
      "|  Node | Depth | Parents              |  Classes |  Test size |   Test acc | \n",
      "|-------+-------+----------------------+----------+------------+------------|\n",
      "|     1 |     1 | .                    |       21 |       1200 |      3.08% | \n",
      "|     2 |     1 | FOOT                 |       14 |        151 |     17.22% | \n",
      "|     3 |     1 | PELVIS               |       14 |         60 |      1.67% | \n",
      "|     4 |     1 | SKULL                |        2 |          3 |       0.0% | \n",
      "|     5 |     1 | SHOULDER             |       17 |        102 |       9.8% | \n",
      "|     6 |     1 | TSPINE               |        3 |          9 |     44.44% | \n",
      "|     7 |     1 | CSPINE               |        2 |         23 |     30.43% | \n",
      "|     8 |     1 | CLAVICLE             |        5 |          1 |       0.0% | \n",
      "|     9 |     1 | SSPINE               |        1 |          0 |       N/A% | \n",
      "|    10 |     1 | ARM                  |        4 |          3 |       0.0% | \n",
      "|    11 |     1 | ANKLE                |       10 |         16 |       0.0% | \n",
      "|    12 |     1 | KNEE                 |       17 |        152 |      2.63% | \n",
      "|    13 |     1 | LSPINE               |        5 |         36 |       0.0% | \n",
      "|    14 |     1 | LEG                  |        5 |          2 |       0.0% | \n",
      "|    15 |     1 | ABDOMEN              |        5 |          7 |     57.14% | \n",
      "|    16 |     1 | ELBOW                |       16 |         92 |      3.26% | \n",
      "|    17 |     1 | HAND                 |       17 |         43 |      2.33% | \n",
      "|    18 |     1 | HIP                  |       10 |         63 |      4.76% | \n",
      "|    19 |     1 | VERTEBRAL COLUMN     |        8 |         55 |     12.73% | \n",
      "|    20 |     1 | EXTREMITY            |       22 |         85 |       0.0% | \n",
      "|    21 |     1 | CHEST                |       16 |        297 |      3.03% | \n"
     ]
    }
   ],
   "source": [
    "\n",
    "testset = gem.DicomoDataset.get_dicomo_dataset('/mnt/SharedStor/eval_dataset/DX/', labels=relevant_labels)\n",
    "\n",
    "tree.evaluate(testset)\n"
   ]
  },
  {
   "cell_type": "markdown",
   "metadata": {},
   "source": [
    "From the evaluation we can see that node 2 appears to not be performing very well. To train this individual node, we first need to find it's path"
   ]
  },
  {
   "cell_type": "code",
   "execution_count": 5,
   "metadata": {},
   "outputs": [
    {
     "name": "stdout",
     "output_type": "stream",
     "text": [
      "<class 'gemicai.Classifier.Classifier'>\n"
     ]
    }
   ],
   "source": [
    "\n",
    "# By default the filename of the node is <node.label>.gemnode\n",
    "node_path = '/mnt/SharedStor/trees/dx_tree/FOOT/StudyDescription.gemnode'\n",
    "\n",
    "node = gem.ClassifierNode.from_file(node_path)\n",
    "\n",
    "# Select neural network from the node\n",
    "net = node.classifier\n",
    "print(type(net))\n"
   ]
  },
  {
   "cell_type": "markdown",
   "metadata": {},
   "source": [
    "As you can see, net is an instance of Gemicai.Classifier, we already know how to train a Classifier! For more information about Gemicai.Classifier see tutorial 2. "
   ]
  },
  {
   "cell_type": "code",
   "execution_count": 8,
   "metadata": {},
   "outputs": [
    {
     "name": "stdout",
     "output_type": "stream",
     "text": [
      "| Class (StudyDescription)   |   Frequency |\n",
      "|----------------------------+-------------|\n",
      "| Voet links                 |         164 |\n",
      "| Enkel links                |          98 |\n",
      "| Voet rechts                |         176 |\n",
      "| Voet links kind            |           6 |\n",
      "| Calcaneus rechts           |          14 |\n",
      "| Voet beiderzijds           |          95 |\n",
      "| Voet rechts kind           |           2 |\n",
      "| Enkel rechts               |         121 |\n",
      "| Teen rechts                |           9 |\n",
      "| Teen links                 |           7 |\n",
      "| Calcaneus links            |          13 |\n",
      "| Enkel beiderzijds          |          13 |\n",
      "| Teen links kind            |           2 |\n",
      "\n",
      "Total number of training images: 720 \n",
      "Total number of classes: 13\n",
      "\n",
      "| Class (StudyDescription)   |   Frequency |\n",
      "|----------------------------+-------------|\n",
      "| Voet rechts                |          35 |\n",
      "| Voet links                 |          45 |\n",
      "| Enkel links                |          18 |\n",
      "| Calcaneus links            |           3 |\n",
      "| Enkel rechts               |          23 |\n",
      "| Voet beiderzijds           |          16 |\n",
      "| Calcaneus rechts           |           6 |\n",
      "| Enkel beiderzijds          |           5 |\n",
      "\n",
      "Total number of training images: 151 \n",
      "Total number of classes: 8\n",
      "\n"
     ]
    }
   ],
   "source": [
    "\n",
    "trainset_path = '/mnt/SharedStor/train_dataset/DX/'\n",
    "trainset = gem.DicomoDataset.get_dicomo_dataset(trainset_path, labels=relevant_labels)\n",
    "trainsubset = trainset.subset({'BodyPartExamined': 'FOOT'})[1]\n",
    "testsubset = testset.subset({'BodyPartExamined': 'FOOT'})[1]\n",
    "\n",
    "trainsubset.summarize('StudyDescription')\n",
    "testsubset.summarize('StudyDescription')\n"
   ]
  },
  {
   "cell_type": "code",
   "execution_count": null,
   "metadata": {},
   "outputs": [
    {
     "name": "stdout",
     "output_type": "stream",
     "text": [
      "| Epoch | Avg. loss | Train Acc. | Test Acc.  | Elapsed  |   ETA    |\n",
      "|-------+-----------+------------+------------+----------+----------|\n",
      "|     1 | 0.3062769 | 18.47%     | 17.22%     | 00:00:08 | 03:58:07 |\n"
     ]
    }
   ],
   "source": [
    "net.train(trainsubset, test_dataset=testsubset, epochs=10, verbosity=2)"
   ]
  },
  {
   "cell_type": "code",
   "execution_count": 13,
   "metadata": {},
   "outputs": [
    {
     "name": "stdout",
     "output_type": "stream",
     "text": [
      "| <class 'list'> | <class 'list'> | <class 'list'> |\n",
      "| Class             |   Total |   Correct | Acc   |\n",
      "|-------------------+---------+-----------+-------|\n",
      "| Voet links        |      45 |         2 | 4.4%  |\n",
      "| Enkel links       |      18 |         1 | 5.6%  |\n",
      "| Voet rechts       |      35 |        23 | 65.7% |\n",
      "| Voet links kind   |       0 |         0 | -     |\n",
      "| Enkel rechts      |      23 |         0 | 0.0%  |\n",
      "| Calcaneus rechts  |       6 |         0 | 0.0%  |\n",
      "| Voet beiderzijds  |      16 |         0 | 0.0%  |\n",
      "| Voet rechts kind  |       0 |         0 | -     |\n",
      "| Teen rechts       |       0 |         0 | -     |\n",
      "| Teen links        |       0 |         0 | -     |\n",
      "| Calcaneus links   |       3 |         0 | 0.0%  |\n",
      "| Enkel beiderzijds |       5 |         0 | 0.0%  |\n",
      "| Teen rechts kind  |       0 |         0 | -     |\n",
      "| Teen links kind   |       0 |         0 | -     | \n",
      "\n"
     ]
    },
    {
     "data": {
      "text/plain": [
       "(17.22, 151, 26)"
      ]
     },
     "execution_count": 13,
     "metadata": {},
     "output_type": "execute_result"
    }
   ],
   "source": [
    "net.evaluate(testsubset, verbosity=2)"
   ]
  },
  {
   "cell_type": "markdown",
   "metadata": {},
   "source": [
    "If you want, you can assign a whole net classifier to the node. First train the new and improved Classifier, then assign it to the node's classifier, then save the node."
   ]
  },
  {
   "cell_type": "code",
   "execution_count": 14,
   "metadata": {},
   "outputs": [],
   "source": [
    "\n",
    "resnet18 = models.resnet18(pretrained=False)\n",
    "\n",
    "newnet = gem.Classifier(resnet18, trainset.classes('StudyDescription'), enable_cuda=True)\n"
   ]
  },
  {
   "cell_type": "code",
   "execution_count": null,
   "metadata": {},
   "outputs": [],
   "source": [
    "\n",
    "newnet.train(trainsubset, test_dataset=testsubset, epochs=25)\n",
    "\n",
    "newnet.evaluate(testsubset, verbosity=2)\n"
   ]
  },
  {
   "cell_type": "code",
   "execution_count": null,
   "metadata": {},
   "outputs": [],
   "source": [
    "\n",
    "node.classifier = newnet\n",
    "\n",
    "node.save()\n"
   ]
  },
  {
   "cell_type": "markdown",
   "metadata": {},
   "source": [
    "Now when, evaluating the tree again, we can see that the accuracy of node NUMBER improved!"
   ]
  },
  {
   "cell_type": "code",
   "execution_count": null,
   "metadata": {},
   "outputs": [],
   "source": [
    "\n",
    "tree.evaluate(testset)\n"
   ]
  }
 ],
 "metadata": {
  "kernelspec": {
   "display_name": "Python 3",
   "language": "python",
   "name": "python3"
  },
  "language_info": {
   "codemirror_mode": {
    "name": "ipython",
    "version": 3
   },
   "file_extension": ".py",
   "mimetype": "text/x-python",
   "name": "python",
   "nbconvert_exporter": "python",
   "pygments_lexer": "ipython3",
   "version": "3.8.5"
  }
 },
 "nbformat": 4,
 "nbformat_minor": 4
}
