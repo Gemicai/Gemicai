{
 "cells": [
  {
   "cell_type": "markdown",
   "metadata": {},
   "source": [
    "# Gemicai tutorial 3: Gemicai Dataset\n",
    "This tutorial is about Gemicai datasets, or gemsets for short."
   ]
  },
  {
   "cell_type": "code",
   "execution_count": 23,
   "metadata": {},
   "outputs": [],
   "source": [
    "import gemicai as gem\n",
    "import torch\n",
    "import torchvision.models as models\n",
    "import os"
   ]
  },
  {
   "cell_type": "markdown",
   "metadata": {},
   "source": [
    "## 3.1 Create gemset\n",
    "In order to train models using Gemicai library we have to first create a dataset from the Dicom files. Luckly Gemicai provides some functionality that handle most of the works for us."
   ]
  },
  {
   "cell_type": "code",
   "execution_count": 17,
   "metadata": {},
   "outputs": [
    {
     "name": "stdout",
     "output_type": "stream",
     "text": [
      "| Extension   |   Files | Size    |\n",
      "|-------------+---------+---------|\n",
      "| .dcm.gz     |      49 | 14.3 MB | \n",
      "\n",
      "| Extension   |   Files | Size   |\n",
      "|-------------+---------+--------|\n",
      "| .gemset     |       2 | 1.9 MB | \n",
      "\n"
     ]
    }
   ],
   "source": [
    "# Path to a folder containing files in a dicom format\n",
    "dicom_data = 'examples/dicom/CT'\n",
    "\n",
    "# Path to a folder where the processed data sets will be stored\n",
    "gemset_destination = 'examples/gemset/CT'\n",
    "\n",
    "# Let's find out how many files we have to process\n",
    "gem.utils.dir_info(dicom_data)\n",
    "\n",
    "# Specify the relevant Dicom attributes we want to extract into a gemset dataset.\n",
    "dicom_attributes = ['Modality', 'BodyPartExamined', 'StudyDescription', 'SeriesDescription']\n",
    "\n",
    "# Time to create Gemicai dataset aka gemset\n",
    "# For more information about some of the .dicom_to_gemset options please refer to the documentation\n",
    "gem.dicom_to_gemset(dicom_data, gemset_destination, dicom_attributes, objects_per_file=25)\n",
    "\n",
    "# Let's check whenever we have actually outputted anything\n",
    "gem.utils.dir_info(gemset_destination)"
   ]
  },
  {
   "cell_type": "markdown",
   "metadata": {},
   "source": [
    "Now all that's left is to create an iterator object which is used to access data in a controlled manner."
   ]
  },
  {
   "cell_type": "code",
   "execution_count": 19,
   "metadata": {},
   "outputs": [
    {
     "name": "stdout",
     "output_type": "stream",
     "text": [
      "| Class (StudyDescription)   |   Frequency |\n",
      "|----------------------------+-------------|\n",
      "| CT urografie               |          49 |\n",
      "\n",
      "Total number of training images: 49 \n",
      "Total number of classes: 1\n",
      "\n"
     ]
    }
   ],
   "source": [
    "# Instantiate gemset iterator, the get_dicomo_dataset accepts both a valid .gemset file path as well as a folder \n",
    "# location containing arbitary number of gemsets, 'labels' parameter specifies which fields except the tensor \n",
    "# will be returned by the next(gemset) call, of course any next call should be preceded by an init call which \n",
    "# initializes data iterators internal state\n",
    "gemset = gem.DicomoDataset.get_dicomo_dataset(gemset_destination, labels=['StudyDescription'])\n",
    "\n",
    "# Let's print all of the values that the label 'StudyDescription' has in the provided dataset\n",
    "gemset.summarize('StudyDescription')\n",
    "\n"
   ]
  },
  {
   "cell_type": "markdown",
   "metadata": {},
   "source": [
    "With this we have created an iterator object that can be safely passed to the Gemicai's Classifier class for \n",
    "model training or evaluation."
   ]
  },
  {
   "cell_type": "markdown",
   "metadata": {},
   "source": [
    "## 3.2 Tweaking gemset\n",
    "To get the most out of your neural network, data selection is very important. That is why Gemicai's iterators \n",
    "provide you an extensive ability to pick, split or even modify the dataset. "
   ]
  },
  {
   "cell_type": "markdown",
   "metadata": {},
   "source": [
    "Let's assume that one of the images in the previously generated gemset has a wrong Modality assigned to it. Let's change it!"
   ]
  },
  {
   "cell_type": "code",
   "execution_count": 20,
   "metadata": {
    "scrolled": true
   },
   "outputs": [
    {
     "name": "stdout",
     "output_type": "stream",
     "text": [
      "| Class (Modality)   |   Frequency |\n",
      "|--------------------+-------------|\n",
      "| CT                 |          49 |\n",
      "\n",
      "Total number of training images: 49 \n",
      "Total number of classes: 1\n",
      "\n",
      "| Class (Modality)   |   Frequency |\n",
      "|--------------------+-------------|\n",
      "| CT                 |          48 |\n",
      "| MR                 |           1 |\n",
      "\n",
      "Total number of training images: 49 \n",
      "Total number of classes: 2\n",
      "\n"
     ]
    }
   ],
   "source": [
    "# All of the Modality classes should be set to 'CT'\n",
    "gemset.summarize('Modality')\n",
    "\n",
    "# Let's modify a third (first index is 0) object in the dataset to have 'Modality' set to 'MR'\n",
    "gemset.modify(2, {'Modality': 'MR'})\n",
    "\n",
    "# Now there should be two values possible\n",
    "gemset.summarize('Modality')"
   ]
  },
  {
   "cell_type": "markdown",
   "metadata": {},
   "source": [
    "As one of the images had a wrong label we would like to omit it in our dataset."
   ]
  },
  {
   "cell_type": "code",
   "execution_count": 21,
   "metadata": {},
   "outputs": [
    {
     "name": "stdout",
     "output_type": "stream",
     "text": [
      "| Class (Modality)   |   Frequency |\n",
      "|--------------------+-------------|\n",
      "| CT                 |          48 |\n",
      "\n",
      "Total number of training images: 48 \n",
      "Total number of classes: 1\n",
      "\n"
     ]
    }
   ],
   "source": [
    "# Creating a substed without 'MR' modality\n",
    "gemset_new = gemset.subset({'Modality': 'CT'})\n",
    "\n",
    "# gemset_new should contain only 'CT' modalities, let's check whenever this is true\n",
    "gemset_new.summarize('Modality')"
   ]
  },
  {
   "cell_type": "markdown",
   "metadata": {},
   "source": [
    "What is important to remember is that the subset method does not create a new .gemset it simply returns a new iterator which uses original data contraints (if passed) merged with the ones in the subset call. In order to actually save the data we will use the save method. "
   ]
  },
  {
   "cell_type": "code",
   "execution_count": 31,
   "metadata": {},
   "outputs": [
    {
     "name": "stdout",
     "output_type": "stream",
     "text": [
      "| Extension   |   Files | Size   |\n",
      "|-------------+---------+--------|\n",
      "| .gemset     |       2 | 1.9 MB | \n",
      "\n"
     ]
    }
   ],
   "source": [
    "# Location where we will save our new data set\n",
    "location = 'temp/main'\n",
    "\n",
    "# Let's create that folder\n",
    "os.makedirs(location)\n",
    "\n",
    "# Save the gemset t othe specified folder\n",
    "gemset_new.save(location)\n",
    "\n",
    "# Let's check whenever we have actually saved anything\n",
    "gem.utils.dir_info(location)"
   ]
  },
  {
   "cell_type": "markdown",
   "metadata": {},
   "source": [
    "Now let's imagine that we would like to split the resulting dataset further into a train and evaluation data sets, this can be done using a split method. "
   ]
  },
  {
   "cell_type": "code",
   "execution_count": 32,
   "metadata": {},
   "outputs": [
    {
     "name": "stdout",
     "output_type": "stream",
     "text": [
      "| Class (Modality)   |   Frequency |\n",
      "|--------------------+-------------|\n",
      "| CT                 |          38 |\n",
      "\n",
      "Total number of training images: 38 \n",
      "Total number of classes: 1\n",
      "\n",
      "| Class (Modality)   |   Frequency |\n",
      "|--------------------+-------------|\n",
      "| CT                 |          10 |\n",
      "\n",
      "Total number of training images: 10 \n",
      "Total number of classes: 1\n",
      "\n"
     ]
    }
   ],
   "source": [
    "# Evaluation dataset location\n",
    "evaluation = \"temp/eval\"\n",
    "\n",
    "# Train data set location\n",
    "train = \"temp/train\" \n",
    "\n",
    "# Let's create those fodlers\n",
    "os.makedirs(evaluation)\n",
    "os.makedirs(train)\n",
    "\n",
    "# Let's create interator for the dataset located in 'temp/main'\n",
    "temp_set = gem.DicomoDataset.get_dicomo_dataset(location, labels=['StudyDescription'])\n",
    "\n",
    "# Time to split it into a training and evaluation sets using a ratio of 8:2, so training set will contain ~80% of\n",
    "# temp_set's data, where as the evaluation set will get the remaining ~20%.\n",
    "temp_set.split(sets={train: 0.8, evaluation: 0.2})\n",
    "\n",
    "# Let's check whenever our previous assumption is correct\n",
    "eval_dataset = gem.DicomoDataset.get_dicomo_dataset(train, labels=['StudyDescription'])\n",
    "train_dataset = gem.DicomoDataset.get_dicomo_dataset(evaluation, labels=['StudyDescription'])\n",
    "\n",
    "eval_dataset.summarize('Modality')\n",
    "train_dataset.summarize('Modality')\n"
   ]
  },
  {
   "cell_type": "markdown",
   "metadata": {},
   "source": [
    "We are slowly creating too many datasets, it's time to remove them using the erase method."
   ]
  },
  {
   "cell_type": "code",
   "execution_count": 33,
   "metadata": {},
   "outputs": [
    {
     "name": "stdout",
     "output_type": "stream",
     "text": [
      "| Extension   |   Files | Size   |\n",
      "|-------------+---------+--------|\n",
      "| .gemset     |       2 | 1.9 MB | \n",
      "\n",
      "| Extension   | Files   | Size   |\n",
      "|-------------+---------+--------| \n",
      "\n"
     ]
    }
   ],
   "source": [
    "# Folder should contain a gemicai dataset\n",
    "gem.utils.dir_info(location)\n",
    "\n",
    "# Time to remove all of the datasets we have created\n",
    "temp_set.erase()\n",
    "eval_dataset.erase()\n",
    "train_dataset.erase()\n",
    "\n",
    "# It should be empty now\n",
    "gem.utils.dir_info(location)\n",
    "\n",
    "# Remove the empty folders\n",
    "os.rmdir(location)\n",
    "os.rmdir(evaluation)\n",
    "os.rmdir(train)\n",
    "os.rmdir('temp')"
   ]
  }
 ],
 "metadata": {
  "kernelspec": {
   "display_name": "Python 3",
   "language": "python",
   "name": "python3"
  },
  "language_info": {
   "codemirror_mode": {
    "name": "ipython",
    "version": 3
   },
   "file_extension": ".py",
   "mimetype": "text/x-python",
   "name": "python",
   "nbconvert_exporter": "python",
   "pygments_lexer": "ipython3",
   "version": "3.8.5"
  }
 },
 "nbformat": 4,
 "nbformat_minor": 4
}
