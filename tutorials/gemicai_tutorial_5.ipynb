{
 "cells": [
  {
   "cell_type": "markdown",
   "metadata": {},
   "source": [
    "# Gemicai tutorial 5: Advanced ClassifierTree\n",
    "In this tutorial we'll go a bit more in depth about what the ClassifierTree can do."
   ]
  },
  {
   "cell_type": "code",
   "execution_count": 1,
   "metadata": {},
   "outputs": [],
   "source": [
    "import gemicai as gem\n",
    "import torch\n",
    "import torchvision.models as models"
   ]
  },
  {
   "cell_type": "markdown",
   "metadata": {},
   "source": [
    "## 5.1 Recap\n",
    "In the previous tutorial, we have learned about the concept and core functionality of ClassifierTree, in this tutorial, we'll go more in depth on how to actually make it work. But first, a quick recap of everything we need from tutorial 4.\n",
    "\n",
    "### Load tree\n",
    "In this example we'll be taking a look at the ClassifierTree that determines the StudyDescription for images from the DX modality."
   ]
  },
  {
   "cell_type": "code",
   "execution_count": 2,
   "metadata": {},
   "outputs": [
    {
     "name": "stdout",
     "output_type": "stream",
     "text": [
      "|   Depth | Label            |   Classifiers |   Avg. classes |\n",
      "|---------+------------------+---------------+----------------|\n",
      "|       0 | BodyPartExamined |             1 |           21   |\n",
      "|       1 | StudyDescription |            20 |            9.2 |\n",
      "\n"
     ]
    }
   ],
   "source": [
    "tree_path = '/mnt/SharedStor/trees/dx_tree'\n",
    "\n",
    "tree = gem.ClassifierTree.from_dir(tree_path)\n",
    "\n",
    "print(tree)"
   ]
  },
  {
   "cell_type": "markdown",
   "metadata": {},
   "source": [
    "### Initialize gemsets\n",
    "To train and evaluate a tree, we first need to create a training- and test-dataset"
   ]
  },
  {
   "cell_type": "code",
   "execution_count": 3,
   "metadata": {},
   "outputs": [],
   "source": [
    "\n",
    "relevant_labels = ['BodyPartExamined', 'StudyDescription']\n",
    "\n",
    "train_path = '/mnt/SharedStor/gemset/DX/train'\n",
    "test_path = '/mnt/SharedStor/gemset/DX/test'\n",
    "\n",
    "trainset = gem.DicomoDataset.get_dicomo_dataset(train_path, relevant_labels)\n",
    "testset = gem.DicomoDataset.get_dicomo_dataset(test_path, relevant_labels)\n"
   ]
  },
  {
   "cell_type": "markdown",
   "metadata": {},
   "source": [
    "### Evaluate tree\n",
    "With this evaluation we can inspect the performance of individual nodes."
   ]
  },
  {
   "cell_type": "code",
   "execution_count": 4,
   "metadata": {},
   "outputs": [
    {
     "name": "stdout",
     "output_type": "stream",
     "text": [
      "|  Node | Depth | Parents              |  Classes |  Test size |   Test acc | \n",
      "|-------+-------+----------------------+----------+------------+------------|\n",
      "|     1 |     0 | .                    |       21 |       1904 |     91.65% | \n",
      "|     2 |     1 | FOOT                 |       12 |        192 |     81.25% | \n",
      "|     3 |     1 | PELVIS               |       13 |        102 |      59.8% | \n",
      "|     4 |     1 | SKULL                |        2 |          8 |      87.5% | \n",
      "|     5 |     1 | SHOULDER             |       16 |        135 |     61.48% | \n",
      "|     6 |     1 | TSPINE               |        3 |         19 |     84.21% | \n",
      "|     7 |     1 | CSPINE               |        1 |         30 |     100.0% | \n",
      "|     8 |     1 | CLAVICLE             |        5 |          5 |     100.0% | \n",
      "|     9 |     1 | SSPINE               |        1 |          0 |       N/A% | \n",
      "|    10 |     1 | ARM                  |        4 |          2 |     100.0% | \n",
      "|    11 |     1 | ANKLE                |       10 |         26 |     61.54% | \n",
      "|    12 |     1 | KNEE                 |       16 |        243 |     47.74% | \n",
      "|    13 |     1 | LSPINE               |        4 |         48 |     97.92% | \n",
      "|    14 |     1 | LEG                  |        4 |          8 |     100.0% | \n",
      "|    15 |     1 | ABDOMEN              |        4 |         15 |     100.0% | \n",
      "|    16 |     1 | ELBOW                |       16 |        121 |     58.68% | \n",
      "|    17 |     1 | HAND                 |       17 |         67 |     58.21% | \n",
      "|    18 |     1 | HIP                  |        9 |         97 |     62.89% | \n",
      "|    19 |     1 | VERTEBRAL COLUMN     |        8 |         89 |     83.15% | \n",
      "|    20 |     1 | EXTREMITY            |       22 |        167 |     64.67% | \n",
      "|    21 |     1 | CHEST                |       16 |        479 |     89.77% | \n"
     ]
    }
   ],
   "source": [
    "tree.evaluate(testset)"
   ]
  },
  {
   "cell_type": "markdown",
   "metadata": {},
   "source": [
    "## 5.2 Tweaking individual nodes in the tree\n",
    "To get the best overall performance for a ClassifierTree, it is important that all nodes function accurately. From the evaluation we can see that node 3, (the one that classifies the StudyDescription of Pelvis images) appears to not be performing very well. To train this individual node, we first need to find it's path"
   ]
  },
  {
   "cell_type": "code",
   "execution_count": 5,
   "metadata": {},
   "outputs": [
    {
     "name": "stdout",
     "output_type": "stream",
     "text": [
      "<class 'gemicai.Classifier.Classifier'>\n",
      "['Bekken', 'Femur rechts', 'Bekken+heup links', 'Bekken+heup rechts', 'Coccygis', 'Heup rechts', 'Bekken+heup beiderzijds', 'Heup links', 'Bekken kind', 'Heupen baby', 'Sacrum', 'Heup beiderzijds kind', 'Bekken+heup beiderzijds kind']\n"
     ]
    }
   ],
   "source": [
    "# By default the filename of the node is <node.label>.gemnode\n",
    "node_path = '/mnt/SharedStor/trees/dx_tree/PELVIS/StudyDescription.gemnode'\n",
    "\n",
    "node = gem.ClassifierNode.from_file(node_path)\n",
    "\n",
    "# Select neural network from the node\n",
    "net = node.classifier\n",
    "\n",
    "# As you can see, node.classifier is an instance of Gemicai.Classifier\n",
    "print(type(net))\n",
    "\n",
    "# The classifiers' classes\n",
    "print(net.classes)"
   ]
  },
  {
   "cell_type": "markdown",
   "metadata": {},
   "source": [
    "As you can see, net is an instance of Gemicai.Classifier, we already know how to train a Classifier! For more information about Gemicai.Classifier see tutorial 2. "
   ]
  },
  {
   "cell_type": "markdown",
   "metadata": {},
   "source": [
    "### Create train- and test-subset\n",
    "To train an individual node in the tree, first create subsets that only contain data relevant for that specific node. "
   ]
  },
  {
   "cell_type": "code",
   "execution_count": 6,
   "metadata": {},
   "outputs": [
    {
     "name": "stdout",
     "output_type": "stream",
     "text": [
      "| Class (StudyDescription)     |   Frequency |\n",
      "|------------------------------+-------------|\n",
      "| Bekken+heup links            |         112 |\n",
      "| Bekken                       |          86 |\n",
      "| Bekken+heup beiderzijds      |          33 |\n",
      "| Bekken+heup rechts           |          92 |\n",
      "| Bekken kind                  |           8 |\n",
      "| Heupen baby                  |           9 |\n",
      "| Heup rechts                  |           1 |\n",
      "| Coccygis                     |           7 |\n",
      "| Sacrum                       |           1 |\n",
      "| Bekken+heup beiderzijds kind |           1 |\n",
      "| Femur rechts                 |           1 |\n",
      "| Heup links                   |           1 |\n",
      "| Heup beiderzijds kind        |           1 |\n",
      "| Femur links                  |           1 |\n",
      "\n",
      "Total number of training images: 354 \n",
      "Total number of classes: 14\n",
      "\n",
      "| Class (StudyDescription)   |   Frequency |\n",
      "|----------------------------+-------------|\n",
      "| Bekken                     |          28 |\n",
      "| Bekken+heup rechts         |          30 |\n",
      "| Bekken kind                |           2 |\n",
      "| Bekken+heup links          |          28 |\n",
      "| Bekken+heup beiderzijds    |          11 |\n",
      "| Heupen baby                |           2 |\n",
      "| Sacrum                     |           1 |\n",
      "\n",
      "Total number of training images: 102 \n",
      "Total number of classes: 7\n",
      "\n"
     ]
    }
   ],
   "source": [
    "constraints = {\n",
    "    'BodyPartExamined': 'PELVIS'\n",
    "}\n",
    "\n",
    "label = 'StudyDescription'\n",
    "\n",
    "trainsubset = trainset.subset(constraints)[label]\n",
    "testsubset = testset.subset(constraints)[label]\n",
    "\n",
    "trainsubset.summarize(label)\n",
    "testsubset.summarize(label)"
   ]
  },
  {
   "cell_type": "markdown",
   "metadata": {},
   "source": [
    "### Train existing node\n",
    "Now that we've constructed a training subset and a testsubset, we can train the node."
   ]
  },
  {
   "cell_type": "code",
   "execution_count": 7,
   "metadata": {},
   "outputs": [
    {
     "name": "stdout",
     "output_type": "stream",
     "text": [
      "| Epoch | Avg. loss | Train Acc. | Test Acc.  | Elapsed  |   ETA    |\n",
      "|-------+-----------+------------+------------+----------+----------|\n",
      "|     1 | 0.0185672 | -          | -          | 00:00:08 | 18:40:16 |\n",
      "|     2 | 0.0074461 | -          | -          | 00:00:08 | 18:40:16 |\n",
      "|     3 | 0.0084622 | -          | -          | 00:00:08 | 18:40:16 |\n",
      "|     4 | 0.0058611 | -          | -          | 00:00:08 | 18:40:16 |\n",
      "|     5 | 0.0030107 | -          | -          | 00:00:08 | 18:40:16 |\n",
      "Training finished, total time elapsed: 0:00:44.239242\n",
      "\n",
      "| Epoch | Avg. loss | Train Acc. | Test Acc.  | Elapsed  |   ETA    |\n",
      "|-------+-----------+------------+------------+----------+----------|\n",
      "|     1 | 0.0016090 | 81.14%     | 55.88%     | 00:00:20 | 18:42:10 |\n",
      "|     2 | 0.1640995 | 64.86%     | 58.82%     | 00:00:20 | 18:42:10 |\n",
      "|     3 | 0.0858445 | 86.86%     | 66.67%     | 00:00:20 | 18:42:10 |\n",
      "|     4 | 0.0515062 | 77.71%     | 62.75%     | 00:00:20 | 18:42:10 |\n",
      "|     5 | 0.0378983 | 84.29%     | 70.59%     | 00:00:20 | 18:42:10 |\n",
      "Training finished, total time elapsed: 0:01:41.604757\n",
      "\n"
     ]
    }
   ],
   "source": [
    "# Verbosity=1 means no train acc or test acc will be calculated after every epoch. This reduces training time.\n",
    "net.train(trainsubset, epochs=5, verbosity=1)\n",
    "\n",
    "# Verbosity=2 means train acc will be calcuated after every epoch. (And also for a test set if passed as argument)\n",
    "net.train(trainsubset, test_dataset=testsubset, epochs=5, verbosity=2)\n"
   ]
  },
  {
   "cell_type": "markdown",
   "metadata": {},
   "source": [
    "### Re-evaluate node"
   ]
  },
  {
   "cell_type": "code",
   "execution_count": 8,
   "metadata": {},
   "outputs": [
    {
     "name": "stdout",
     "output_type": "stream",
     "text": [
      "| <class 'list'> | <class 'list'> | <class 'list'> |\n",
      "| Class                        |   Total |   Correct | Acc    |\n",
      "|------------------------------+---------+-----------+--------|\n",
      "| Bekken                       |      28 |        24 | 85.7%  |\n",
      "| Femur rechts                 |       0 |         0 | -      |\n",
      "| Bekken+heup links            |      28 |        17 | 60.7%  |\n",
      "| Bekken+heup rechts           |      30 |        23 | 76.7%  |\n",
      "| Coccygis                     |       0 |         0 | -      |\n",
      "| Heup rechts                  |       0 |         0 | -      |\n",
      "| Bekken+heup beiderzijds      |      11 |         5 | 45.5%  |\n",
      "| Heup links                   |       0 |         0 | -      |\n",
      "| Bekken kind                  |       2 |         1 | 50.0%  |\n",
      "| Heupen baby                  |       2 |         2 | 100.0% |\n",
      "| Sacrum                       |       1 |         0 | 0.0%   |\n",
      "| Heup beiderzijds kind        |       0 |         0 | -      |\n",
      "| Bekken+heup beiderzijds kind |       0 |         0 | -      | \n",
      "\n"
     ]
    },
    {
     "data": {
      "text/plain": [
       "(70.59, 102, 72)"
      ]
     },
     "execution_count": 8,
     "metadata": {},
     "output_type": "execute_result"
    }
   ],
   "source": [
    "net.evaluate(testsubset, verbosity=2)"
   ]
  },
  {
   "cell_type": "markdown",
   "metadata": {},
   "source": [
    "Once we're satisfied with the nodes performance, all we have to do is save it. We can then re-evaluate the tree and see that the accuracy of node 3 indeed has increased!"
   ]
  },
  {
   "cell_type": "code",
   "execution_count": 9,
   "metadata": {},
   "outputs": [
    {
     "name": "stdout",
     "output_type": "stream",
     "text": [
      "|  Node | Depth | Parents              |  Classes |  Test size |   Test acc | \n",
      "|-------+-------+----------------------+----------+------------+------------|\n",
      "|     1 |     0 | .                    |       21 |       1904 |     91.65% | \n",
      "|     2 |     1 | FOOT                 |       12 |        192 |     81.25% | \n",
      "|     3 |     1 | PELVIS               |       13 |        102 |     70.59% | \n",
      "|     4 |     1 | SKULL                |        2 |          8 |      87.5% | \n",
      "|     5 |     1 | SHOULDER             |       16 |        135 |     61.48% | \n",
      "|     6 |     1 | TSPINE               |        3 |         19 |     84.21% | \n",
      "|     7 |     1 | CSPINE               |        1 |         30 |     100.0% | \n",
      "|     8 |     1 | CLAVICLE             |        5 |          5 |     100.0% | \n",
      "|     9 |     1 | SSPINE               |        1 |          0 |       N/A% | \n",
      "|    10 |     1 | ARM                  |        4 |          2 |     100.0% | \n",
      "|    11 |     1 | ANKLE                |       10 |         26 |     61.54% | \n",
      "|    12 |     1 | KNEE                 |       16 |        243 |     47.74% | \n",
      "|    13 |     1 | LSPINE               |        4 |         48 |     97.92% | \n",
      "|    14 |     1 | LEG                  |        4 |          8 |     100.0% | \n",
      "|    15 |     1 | ABDOMEN              |        4 |         15 |     100.0% | \n",
      "|    16 |     1 | ELBOW                |       16 |        121 |     58.68% | \n",
      "|    17 |     1 | HAND                 |       17 |         67 |     58.21% | \n",
      "|    18 |     1 | HIP                  |        9 |         97 |     62.89% | \n",
      "|    19 |     1 | VERTEBRAL COLUMN     |        8 |         89 |     83.15% | \n",
      "|    20 |     1 | EXTREMITY            |       22 |        167 |     64.67% | \n",
      "|    21 |     1 | CHEST                |       16 |        479 |     89.77% | \n"
     ]
    }
   ],
   "source": [
    "node.save()\n",
    "\n",
    "tree.evaluate(testset)"
   ]
  },
  {
   "cell_type": "markdown",
   "metadata": {},
   "source": [
    "### Assign new Classifier to Node"
   ]
  },
  {
   "cell_type": "markdown",
   "metadata": {},
   "source": [
    "If you want, you can assign a whole new classifier to the node. First train the new and improved Classifier, then assign it to the node's classifier, then save the node. All nodes in the current tree exist of nodes based on ResNet18, which is a relatively lightweight image classifier. If we can't seem to get accurate enough results with ResNet18, we can always try another model, e.g. ShuffleNet."
   ]
  },
  {
   "cell_type": "code",
   "execution_count": 10,
   "metadata": {},
   "outputs": [],
   "source": [
    "shufflenet = models.shufflenet_v2_x1_0(pretrained=False)\n",
    "\n",
    "newnet = gem.Classifier(shufflenet, trainsubset.classes(label), enable_cuda=True)\n"
   ]
  },
  {
   "cell_type": "code",
   "execution_count": null,
   "metadata": {},
   "outputs": [
    {
     "name": "stdout",
     "output_type": "stream",
     "text": [
      "| Epoch | Avg. loss | Train Acc. | Test Acc.  | Elapsed  |   ETA    |\n",
      "|-------+-----------+------------+------------+----------+----------|\n",
      "|     1 | 0.2335260 | 32.49%     | 30.39%     | 00:00:21 | 21:28:04 |\n",
      "|     2 | 0.2431209 | 26.84%     | 28.43%     | 00:00:21 | 21:28:07 |\n",
      "|     3 | 0.2187413 | 33.62%     | 30.39%     | 00:00:21 | 21:27:54 |\n",
      "|     4 | 0.2167192 | 35.31%     | 38.24%     | 00:00:22 | 21:28:43 |\n",
      "|     5 | 0.2158807 | 31.07%     | 30.39%     | 00:00:21 | 21:27:59 |\n",
      "|     6 | 0.2142529 | 36.16%     | 33.33%     | 00:00:22 | 21:28:27 |\n",
      "|     7 | 0.2144373 | 25.14%     | 26.47%     | 00:00:22 | 21:28:59 |\n",
      "|     8 | 0.2128914 | 31.92%     | 32.35%     | 00:00:22 | 21:29:30 |\n",
      "|     9 | 0.2128391 | 24.29%     | 27.45%     | 00:00:23 | 21:30:25 |\n",
      "|    10 | 0.2130804 | 30.23%     | 30.39%     | 00:00:23 | 21:30:08 |\n",
      "|    11 | 0.2132673 | 29.1%      | 28.43%     | 00:00:23 | 21:30:50 |\n",
      "|    12 | 0.2118232 | 33.33%     | 35.29%     | 00:00:22 | 21:28:28 |\n",
      "|    13 | 0.2107250 | 35.03%     | 29.41%     | 00:00:24 | 21:31:43 |\n",
      "|    14 | 0.2108653 | 30.51%     | 31.37%     | 00:00:22 | 21:28:28 |\n",
      "|    15 | 0.2116235 | 30.51%     | 30.39%     | 00:00:22 | 21:28:32 |\n",
      "|    16 | 0.2102236 | 30.23%     | 30.39%     | 00:00:21 | 21:28:02 |\n",
      "|    17 | 0.2084066 | 32.77%     | 34.31%     | 00:00:21 | 21:28:18 |\n",
      "|    18 | 0.2076378 | 35.59%     | 37.25%     | 00:00:21 | 21:28:22 |\n",
      "|    19 | 0.2072816 | 37.01%     | 37.25%     | 00:00:21 | 21:28:04 |\n",
      "|    20 | 0.2066433 | 37.57%     | 40.2%      | 00:00:21 | 21:28:05 |\n",
      "|    21 | 0.2044678 | 38.7%      | 40.2%      | 00:00:21 | 21:28:08 |\n",
      "|    22 | 0.2035801 | 38.7%      | 38.24%     | 00:00:21 | 21:28:07 |\n",
      "|    23 | 0.2028372 | 39.27%     | 36.27%     | 00:00:22 | 21:28:24 |\n",
      "|    24 | 0.1995715 | 38.7%      | 35.29%     | 00:00:22 | 21:28:38 |\n",
      "|    25 | 0.1990472 | 39.55%     | 35.29%     | 00:00:21 | 21:28:21 |\n",
      "|    26 | 0.1979667 | 40.4%      | 35.29%     | 00:00:21 | 21:28:09 |\n",
      "|    27 | 0.1954692 | 35.03%     | 36.27%     | 00:00:23 | 21:30:12 |\n",
      "|    28 | 0.1987357 | 40.96%     | 37.25%     | 00:00:22 | 21:28:25 |\n",
      "|    29 | 0.1954160 | 40.4%      | 35.29%     | 00:00:22 | 21:28:39 |\n",
      "|    30 | 0.1906012 | 41.24%     | 39.22%     | 00:00:21 | 21:28:07 |\n",
      "|    31 | 0.1852261 | 41.24%     | 38.24%     | 00:00:24 | 21:31:05 |\n",
      "|    32 | 0.1824286 | 42.09%     | 37.25%     | 00:00:21 | 21:28:05 |\n",
      "|    33 | 0.1773074 | 45.2%      | 40.2%      | 00:00:21 | 21:27:42 |\n",
      "|    34 | 0.1759766 | 45.48%     | 37.25%     | 00:00:21 | 21:28:07 |\n",
      "|    35 | 0.1723585 | 47.18%     | 35.29%     | 00:00:21 | 21:28:05 |\n",
      "|    36 | 0.1727425 | 49.44%     | 40.2%      | 00:00:21 | 21:28:22 |\n",
      "|    37 | 0.1745720 | 47.18%     | 36.27%     | 00:00:21 | 21:28:11 |\n",
      "|    38 | 0.1703159 | 50.85%     | 34.31%     | 00:00:21 | 21:28:06 |\n"
     ]
    }
   ],
   "source": [
    "newnet.train(trainsubset, test_dataset=testsubset, epochs=100, verbosity=2)\n",
    "\n",
    "newnet.evaluate(testsubset, verbosity=2)"
   ]
  },
  {
   "cell_type": "markdown",
   "metadata": {},
   "source": [
    "Once we are satisfied the with networks performance, we can write it back to the node and save it."
   ]
  },
  {
   "cell_type": "code",
   "execution_count": 144,
   "metadata": {},
   "outputs": [],
   "source": [
    "node.classifier = newnet\n",
    "\n",
    "node.save()"
   ]
  },
  {
   "cell_type": "markdown",
   "metadata": {},
   "source": [
    "Now, when re-evaluating the tree, we can see that the accuracy of node 3 improved once again!"
   ]
  },
  {
   "cell_type": "code",
   "execution_count": 18,
   "metadata": {},
   "outputs": [
    {
     "name": "stdout",
     "output_type": "stream",
     "text": [
      "|  Node | Depth | Parents              |  Classes |  Test size |   Test acc | \n",
      "|-------+-------+----------------------+----------+------------+------------|\n",
      "|     1 |     0 | .                    |       21 |       1904 |     91.65% | \n",
      "|     2 |     1 | FOOT                 |       12 |        192 |     81.25% | \n",
      "|     3 |     1 | PELVIS               |       13 |        102 |      50.0% | \n",
      "|     4 |     1 | SKULL                |        2 |          8 |      87.5% | \n",
      "|     5 |     1 | SHOULDER             |       17 |        139 |      1.44% | \n",
      "|     6 |     1 | TSPINE               |        3 |         19 |     10.53% | \n",
      "|     7 |     1 | CSPINE               |        1 |         30 |     100.0% | \n",
      "|     8 |     1 | CLAVICLE             |        5 |          5 |      20.0% | \n",
      "|     9 |     1 | SSPINE               |        1 |          0 |       N/A% | \n",
      "|    10 |     1 | ARM                  |        3 |          2 |       0.0% | \n",
      "|    11 |     1 | ANKLE                |        9 |         26 |       0.0% | \n",
      "|    12 |     1 | KNEE                 |       15 |        247 |      5.26% | \n",
      "|    13 |     1 | LSPINE               |        5 |         51 |       0.0% | \n",
      "|    14 |     1 | LEG                  |        3 |          9 |       0.0% | \n",
      "|    15 |     1 | ABDOMEN              |        3 |         19 |     26.32% | \n",
      "|    16 |     1 | ELBOW                |       14 |        121 |       0.0% | \n",
      "|    17 |     1 | HAND                 |       17 |         67 |     58.21% | \n",
      "|    18 |     1 | HIP                  |       10 |        101 |      3.96% | \n",
      "|    19 |     1 | VERTEBRAL COLUMN     |        8 |         89 |     49.44% | \n",
      "|    20 |     1 | EXTREMITY            |       20 |        167 |      4.79% | \n",
      "|    21 |     1 | CHEST                |       14 |        479 |      1.25% | \n"
     ]
    }
   ],
   "source": [
    "tree.evaluate(testset)"
   ]
  },
  {
   "cell_type": "markdown",
   "metadata": {},
   "source": [
    "### Class selection\n",
    "If the classifier is still not up to the desired performance, try reconsidering the selected classes. Sometimes classes can have to much overlap with others, which makes it difficult for the AI to recognize, but also has less significance to classify in the first place. To illustrate this point, lets plot a confusion matrix for node 3."
   ]
  },
  {
   "cell_type": "code",
   "execution_count": 32,
   "metadata": {},
   "outputs": [
    {
     "name": "stdout",
     "output_type": "stream",
     "text": [
      "| <class 'list'> | <class 'list'> | <class 'list'> |\n",
      "| Class                            |   Total |   Correct | Acc    |\n",
      "|----------------------------------+---------+-----------+--------|\n",
      "| AC gewricht rechts               |       1 |         0 | 0.0%   |\n",
      "| Schouder rechts                  |      19 |         7 | 36.8%  |\n",
      "| Clavicula rechts                 |       4 |         2 | 50.0%  |\n",
      "| Schouder+ac gewricht rechts      |      39 |        33 | 84.6%  |\n",
      "| Schouder links                   |      15 |        13 | 86.7%  |\n",
      "| Schouder rechts kind             |       1 |         0 | 0.0%   |\n",
      "| Clavicula links                  |       3 |         3 | 100.0% |\n",
      "| Schouder+ac gewricht links       |      29 |        20 | 69.0%  |\n",
      "| Humerus rechts                   |       5 |         1 | 20.0%  |\n",
      "| Humerus links                    |       6 |         4 | 66.7%  |\n",
      "| Humerus links kind               |       0 |         0 | -      |\n",
      "| Schouder+ac gewricht beiderzijds |       9 |         0 | 0.0%   |\n",
      "| Scapula rechts                   |       1 |         0 | 0.0%   |\n",
      "| Scapula links                    |       2 |         0 | 0.0%   |\n",
      "| Schouder links kind              |       1 |         0 | 0.0%   |\n",
      "| Humerus beiderzijds              |       0 |         0 | -      | \n",
      "\n"
     ]
    },
    {
     "data": {
      "text/plain": [
       "(61.48, 135, 83)"
      ]
     },
     "execution_count": 32,
     "metadata": {},
     "output_type": "execute_result"
    },
    {
     "data": {
      "image/png": "[encoded data removed]",
      "text/plain": [
       "<Figure size 864x864 with 1 Axes>"
      ]
     },
     "metadata": {
      "needs_background": "light"
     },
     "output_type": "display_data"
    }
   ],
   "source": [
    "node.classifier.evaluate(testsubset, verbosity=2, plot_cm=True)"
   ]
  },
  {
   "cell_type": "markdown",
   "metadata": {},
   "source": [
    "From the confusion matrix we can see that the classifier struggles with the class \"Bekken+heup beiderzijds\" and often incorrect classifies it as either \"Bekken+heup links' or \"Bekken+heup rechts\". This makes sense, because when the StudyDescription is \"Beiderzijds\" (Dutch for \"both sides\") images of both sides are made but not a single image of both sides! (See plotted image below of class \"Bekken+heup beiderzijds\") "
   ]
  },
  {
   "cell_type": "code",
   "execution_count": null,
   "metadata": {},
   "outputs": [],
   "source": [
    "# Plot an image with StudyDescription == Bekken+heup beiderzijds\n",
    "trainsubset.subset({'StudyDescription': 'Bekken+heup beiderzijds'}).plot_one_of_every('StudyDescription')"
   ]
  },
  {
   "cell_type": "markdown",
   "metadata": {},
   "source": [
    "This means there is no way for a classifier to tell if an image is \"Beiderzijds\" or not in the first place, as it only classifies a single image at the time. We should therefore exclude this class from training and evaluating. To do so, we first construct new constaints:"
   ]
  },
  {
   "cell_type": "code",
   "execution_count": null,
   "metadata": {},
   "outputs": [],
   "source": [
    "classes = node.classifier.classes\n",
    "classes.remove\n",
    "\n",
    "constraints['StudyDescription'] = classes\n",
    "\n",
    "pprint(constraints)"
   ]
  },
  {
   "cell_type": "code",
   "execution_count": null,
   "metadata": {},
   "outputs": [],
   "source": [
    "# When doing this, the removed classes will be automatically excluded from evaluation and training data\n",
    "node.dataset_constraints = constraints\n",
    "\n",
    "# Assign new classifier to the node\n",
    "node.classifier = newnet"
   ]
  }
 ],
 "metadata": {
  "kernelspec": {
   "display_name": "Python 3",
   "language": "python",
   "name": "python3"
  },
  "language_info": {
   "codemirror_mode": {
    "name": "ipython",
    "version": 3
   },
   "file_extension": ".py",
   "mimetype": "text/x-python",
   "name": "python",
   "nbconvert_exporter": "python",
   "pygments_lexer": "ipython3",
   "version": "3.8.5"
  }
 },
 "nbformat": 4,
 "nbformat_minor": 4
}
