{
 "cells": [
  {
   "cell_type": "markdown",
   "metadata": {},
   "source": [
    "# Gemicai tutorial 5: Advanced ClassifierTree\n",
    "In this tutorial we'll go a bit more in depth about what the ClassifierTree can do."
   ]
  },
  {
   "cell_type": "code",
   "execution_count": 2,
   "metadata": {},
   "outputs": [],
   "source": [
    "import gemicai as gem\n",
    "import torch\n",
    "import torchvision.models as models"
   ]
  },
  {
   "cell_type": "markdown",
   "metadata": {},
   "source": [
    "## 5.1 Recap\n",
    "In the previous tutorial, we have learned about the concept and core functionality of ClassifierTree, in this tutorial, we'll go more in depth on how to actually make it work. But first, a quick recap of everything we need from tutorial 4.\n",
    "\n",
    "### Load tree\n",
    "In this example we'll be taking a look at the ClassifierTree that determines the StudyDescription for images from the DX modality."
   ]
  },
  {
   "cell_type": "code",
   "execution_count": 4,
   "metadata": {},
   "outputs": [
    {
     "name": "stdout",
     "output_type": "stream",
     "text": [
      "|   Depth | Label            |   Classifiers |   Avg. classes |\n",
      "|---------+------------------+---------------+----------------|\n",
      "|       0 | BodyPartExamined |             1 |           20   |\n",
      "|       1 | StudyDescription |            20 |            8.8 |\n",
      "\n"
     ]
    }
   ],
   "source": [
    "tree_path = '/mnt/SharedStor/trees/dx_tree'\n",
    "\n",
    "tree = gem.ClassifierTree.from_dir(tree_path)\n",
    "\n",
    "print(tree)"
   ]
  },
  {
   "cell_type": "markdown",
   "metadata": {},
   "source": [
    "### Initialize gemsets\n",
    "To train and evaluate a tree, we first need to create a training- and test-dataset"
   ]
  },
  {
   "cell_type": "code",
   "execution_count": 5,
   "metadata": {},
   "outputs": [],
   "source": [
    "\n",
    "relevant_labels = ['BodyPartExamined', 'StudyDescription']\n",
    "\n",
    "train_path = '/mnt/SharedStor/gemset/DX/train'\n",
    "test_path = '/mnt/SharedStor/gemset/DX/test'\n",
    "\n",
    "trainset = gem.DicomoDataset.get_dicomo_dataset(train_path, relevant_labels)\n",
    "testset = gem.DicomoDataset.get_dicomo_dataset(test_path, relevant_labels)\n"
   ]
  },
  {
   "cell_type": "markdown",
   "metadata": {},
   "source": [
    "### Evaluate tree\n",
    "With this evaluation we can inspect the performance of individual nodes."
   ]
  },
  {
   "cell_type": "code",
   "execution_count": 6,
   "metadata": {},
   "outputs": [
    {
     "name": "stdout",
     "output_type": "stream",
     "text": [
      "|  Node | Depth | Parents              |  Classes |  Test size |   Test acc | \n",
      "|-------+-------+----------------------+----------+------------+------------|\n",
      "|     1 |     1 | .                    |       20 |       1904 |      1.94% | \n",
      "|     2 |     1 | FOOT                 |       13 |        223 |     10.31% | \n",
      "|     3 |     1 | PELVIS               |       13 |        102 |      50.0% | \n",
      "|     4 |     1 | SKULL                |        2 |          8 |      87.5% | \n",
      "|     5 |     1 | SHOULDER             |       17 |        139 |      1.44% | \n",
      "|     6 |     1 | TSPINE               |        3 |         19 |     10.53% | \n",
      "|     7 |     1 | CSPINE               |        1 |         30 |     100.0% | \n",
      "|     8 |     1 | CLAVICLE             |        5 |          5 |      20.0% | \n",
      "|     9 |     1 | SSPINE               |        1 |          0 |       N/A% | \n",
      "|    10 |     1 | ARM                  |        3 |          2 |       0.0% | \n",
      "|    11 |     1 | ANKLE                |        9 |         26 |       0.0% | \n",
      "|    12 |     1 | KNEE                 |       15 |        247 |      5.26% | \n",
      "|    13 |     1 | LSPINE               |        5 |         51 |       0.0% | \n",
      "|    14 |     1 | LEG                  |        3 |          9 |       0.0% | \n",
      "|    15 |     1 | ABDOMEN              |        3 |         19 |     26.32% | \n",
      "|    16 |     1 | ELBOW                |       14 |        121 |       0.0% | \n",
      "|    17 |     1 | HAND                 |       17 |         67 |       0.0% | \n",
      "|    18 |     1 | HIP                  |       10 |        101 |      3.96% | \n",
      "|    19 |     1 | VERTEBRAL COLUMN     |        8 |         89 |     49.44% | \n",
      "|    20 |     1 | EXTREMITY            |       20 |        167 |      4.79% | \n",
      "|    21 |     1 | CHEST                |       14 |        479 |      1.25% | \n"
     ]
    }
   ],
   "source": [
    "tree.evaluate(testset)"
   ]
  },
  {
   "cell_type": "markdown",
   "metadata": {},
   "source": [
    "## 5.2 Tweaking individual nodes in the tree\n",
    "To get the best overall performance for a ClassifierTree, it is important that all nodes function accurately. From the evaluation we can see that node 2 appears to not be performing very well. To train this individual node, we first need to find it's path"
   ]
  },
  {
   "cell_type": "code",
   "execution_count": 7,
   "metadata": {},
   "outputs": [
    {
     "name": "stdout",
     "output_type": "stream",
     "text": [
      "<class 'gemicai.Classifier.Classifier'>\n",
      "['VERTEBRAL COLUMN', 'CHEST', 'KNEE', 'EXTREMITY', 'HIP', 'PELVIS', 'TSPINE', 'FOOT', 'SHOULDER', 'LSPINE', 'ELBOW', 'CSPINE', 'ANKLE', 'HAND', 'CLAVICLE', 'ARM', 'ABDOMEN', 'SKULL', 'LEG', 'SSPINE']\n"
     ]
    }
   ],
   "source": [
    "parent = 'FOOT'\n",
    "\n",
    "# By default the filename of the node is <node.label>.gemnode\n",
    "node_path = '/mnt/SharedStor/trees/dx_tree/'+parent+'/StudyDescription.gemnode'\n",
    "node_path = '/mnt/SharedStor/trees/dx_tree/BodyPartExamined.gemnode' \n",
    "\n",
    "node = gem.ClassifierNode.from_file(node_path)\n",
    "\n",
    "# Select neural network from the node\n",
    "net = node.classifier\n",
    "print(type(net))\n",
    "\n",
    "print(net.classes)"
   ]
  },
  {
   "cell_type": "markdown",
   "metadata": {},
   "source": [
    "As you can see, net is an instance of Gemicai.Classifier, we already know how to train a Classifier! For more information about Gemicai.Classifier see tutorial 2. "
   ]
  },
  {
   "cell_type": "markdown",
   "metadata": {},
   "source": [
    "### Create train- and test-subset\n",
    "To train an individual node in the tree, first create subsets that only contain data relevant for that specific node. "
   ]
  },
  {
   "cell_type": "code",
   "execution_count": 8,
   "metadata": {},
   "outputs": [
    {
     "name": "stdout",
     "output_type": "stream",
     "text": [
      "| Class (BodyPartExamined)   |   Frequency |\n",
      "|----------------------------+-------------|\n",
      "| VERTEBRAL COLUMN           |         361 |\n",
      "| CHEST                      |        1970 |\n",
      "| KNEE                       |         959 |\n",
      "| EXTREMITY                  |         532 |\n",
      "| PELVIS                     |         354 |\n",
      "| TSPINE                     |          47 |\n",
      "| FOOT                       |         923 |\n",
      "| SHOULDER                   |         635 |\n",
      "| LSPINE                     |         287 |\n",
      "| ELBOW                      |         440 |\n",
      "| HIP                        |         381 |\n",
      "| CSPINE                     |         110 |\n",
      "| ANKLE                      |          96 |\n",
      "| HAND                       |         340 |\n",
      "| CLAVICLE                   |          28 |\n",
      "| ABDOMEN                    |          77 |\n",
      "| SKULL                      |          32 |\n",
      "| ARM                        |          22 |\n",
      "| LEG                        |          21 |\n",
      "| SSPINE                     |           1 |\n",
      "|                            |           1 |\n",
      "\n",
      "Total number of training images: 7617 \n",
      "Total number of classes: 21\n",
      "\n",
      "| Class (BodyPartExamined)   |   Frequency |\n",
      "|----------------------------+-------------|\n",
      "| VERTEBRAL COLUMN           |          89 |\n",
      "| CHEST                      |         479 |\n",
      "| KNEE                       |         247 |\n",
      "| EXTREMITY                  |         167 |\n",
      "| HIP                        |         101 |\n",
      "| TSPINE                     |          19 |\n",
      "| FOOT                       |         223 |\n",
      "| SHOULDER                   |         139 |\n",
      "| LSPINE                     |          51 |\n",
      "| ELBOW                      |         121 |\n",
      "| PELVIS                     |         102 |\n",
      "| CSPINE                     |          30 |\n",
      "| ANKLE                      |          26 |\n",
      "| HAND                       |          67 |\n",
      "| ARM                        |           2 |\n",
      "| ABDOMEN                    |          19 |\n",
      "| SKULL                      |           8 |\n",
      "| LEG                        |           9 |\n",
      "| CLAVICLE                   |           5 |\n",
      "\n",
      "Total number of training images: 1904 \n",
      "Total number of classes: 19\n",
      "\n"
     ]
    }
   ],
   "source": [
    "constraints = {\n",
    "    #'BodyPartExamined': parent\n",
    "}\n",
    "\n",
    "label = 'BodyPartExamined'\n",
    "\n",
    "trainsubset = trainset.subset(constraints)[label]\n",
    "testsubset = testset.subset(constraints)[label]\n",
    "\n",
    "trainsubset.summarize(label)\n",
    "testsubset.summarize(label)"
   ]
  },
  {
   "cell_type": "markdown",
   "metadata": {},
   "source": [
    "### Train existing node\n",
    "Now that we've constructed a training subset and a testsubset, we can train the node"
   ]
  },
  {
   "cell_type": "code",
   "execution_count": 28,
   "metadata": {},
   "outputs": [
    {
     "name": "stdout",
     "output_type": "stream",
     "text": [
      "| Epoch | Avg. loss | Train Acc. | Test Acc.  | Elapsed  |   ETA    |\n",
      "|-------+-----------+------------+------------+----------+----------|\n",
      "|     1 | 0.3872509 | -          | -          | 00:00:37 | 13:28:10 |\n",
      "|     2 | 0.3872509 | -          | -          | 00:00:37 | 13:28:09 |\n",
      "|     3 | 0.3872509 | -          | -          | 00:00:37 | 13:28:09 |\n",
      "|     4 | 0.3872509 | -          | -          | 00:00:37 | 13:28:09 |\n",
      "|     5 | 0.3872509 | -          | -          | 00:00:37 | 13:28:09 |\n",
      "|     6 | 0.3872509 | -          | -          | 00:00:37 | 13:28:09 |\n",
      "|     7 | 0.3872509 | -          | -          | 00:00:37 | 13:28:09 |\n",
      "|     8 | 0.3872509 | -          | -          | 00:00:37 | 13:28:10 |\n",
      "|     9 | 0.3872509 | -          | -          | 00:00:38 | 13:28:11 |\n",
      "|    10 | 0.3872509 | -          | -          | 00:00:37 | 13:28:10 |\n",
      "Training finished, total time elapsed: 0:00:00.000182\n",
      "| Epoch | Avg. loss | Train Acc. | Test Acc.  | Elapsed  |   ETA    |\n",
      "|-------+-----------+------------+------------+----------+----------|\n",
      "|     1 | 0.3872509 | 2.72%      | 1.94%      | 00:00:37 | 13:34:30 |\n",
      "|     2 | 0.3963587 | 2.72%      | 1.94%      | 00:01:04 | 13:38:54 |\n",
      "|     3 | 0.3963587 | 2.72%      | 1.94%      | 00:01:04 | 13:38:56 |\n",
      "|     4 | 0.3963587 | 2.72%      | 1.94%      | 00:01:04 | 13:38:53 |\n",
      "|     5 | 0.3963587 | 2.72%      | 1.94%      | 00:01:04 | 13:38:53 |\n",
      "|     6 | 0.3963587 | 2.72%      | 1.94%      | 00:01:04 | 13:38:53 |\n",
      "|     7 | 0.3963587 | 2.72%      | 1.94%      | 00:01:03 | 13:38:52 |\n",
      "|     8 | 0.3963587 | 2.72%      | 1.94%      | 00:01:03 | 13:38:51 |\n",
      "|     9 | 0.3963587 | 2.72%      | 1.94%      | 00:01:03 | 13:38:51 |\n",
      "|    10 | 0.3963587 | 2.72%      | 1.94%      | 00:01:03 | 13:38:51 |\n",
      "Training finished, total time elapsed: 0:00:27.494579\n"
     ]
    }
   ],
   "source": [
    "# Verbosity=1 means no train acc or test acc will be calculated after every epoch. This reduces training time.\n",
    "net.train(trainsubset, epochs=10, verbosity=1)\n",
    "\n",
    "# Verbosity=2 means train acc will be calcuated after every epoch. (And also for a test set if passed as argument)\n",
    "net.train(trainsubset, test_dataset=testsubset, epochs=10, verbosity=2)\n"
   ]
  },
  {
   "cell_type": "markdown",
   "metadata": {},
   "source": [
    "### Re-evaluate node"
   ]
  },
  {
   "cell_type": "code",
   "execution_count": 70,
   "metadata": {},
   "outputs": [
    {
     "name": "stdout",
     "output_type": "stream",
     "text": [
      "| <class 'list'> | <class 'list'> | <class 'list'> |\n",
      "| Class            |   Total |   Correct | Acc   |\n",
      "|------------------+---------+-----------+-------|\n",
      "| ELBOW            |      92 |         0 | 0.0%  |\n",
      "| VERTEBRAL COLUMN |      55 |         0 | 0.0%  |\n",
      "| CHEST            |     297 |         0 | 0.0%  |\n",
      "| PELVIS           |      60 |         0 | 0.0%  |\n",
      "| SHOULDER         |     102 |         0 | 0.0%  |\n",
      "| KNEE             |     152 |         0 | 0.0%  |\n",
      "| HIP              |      63 |         0 | 0.0%  |\n",
      "| FOOT             |     151 |         0 | 0.0%  |\n",
      "| EXTREMITY        |      85 |        56 | 65.9% |\n",
      "| LSPINE           |      36 |         0 | 0.0%  |\n",
      "| ABDOMEN          |       7 |         0 | 0.0%  |\n",
      "| HAND             |      43 |         0 | 0.0%  |\n",
      "| CSPINE           |      23 |         1 | 4.3%  |\n",
      "| ANKLE            |      16 |         0 | 0.0%  |\n",
      "| CLAVICLE         |       1 |         0 | 0.0%  |\n",
      "| LEG              |       2 |         0 | 0.0%  |\n",
      "| SKULL            |       3 |         0 | 0.0%  |\n",
      "| ARM              |       3 |         0 | 0.0%  |\n",
      "| TSPINE           |       9 |         1 | 11.1% |\n",
      "| SSPINE           |       0 |         0 | -     | \n",
      "\n"
     ]
    },
    {
     "data": {
      "text/plain": [
       "(4.83, 1200, 58)"
      ]
     },
     "execution_count": 70,
     "metadata": {},
     "output_type": "execute_result"
    }
   ],
   "source": [
    "net.evaluate(testsubset, verbosity=2)"
   ]
  },
  {
   "cell_type": "markdown",
   "metadata": {},
   "source": [
    "Once we're satisfied with the nodes performance, all we have to do is save it. We can then re-evaluate the tree and see that the accuracy of node X indeed has increased!"
   ]
  },
  {
   "cell_type": "code",
   "execution_count": null,
   "metadata": {},
   "outputs": [],
   "source": [
    "node.save()\n",
    "tree.evaluate(testset)"
   ]
  },
  {
   "cell_type": "markdown",
   "metadata": {},
   "source": [
    "### Assign new Classifier to Node"
   ]
  },
  {
   "cell_type": "markdown",
   "metadata": {},
   "source": [
    "If you want, you can assign a whole new classifier to the node. First train the new and improved Classifier, then assign it to the node's classifier, then save the node."
   ]
  },
  {
   "cell_type": "code",
   "execution_count": 9,
   "metadata": {},
   "outputs": [],
   "source": [
    "\n",
    "resnet18 = models.resnet18(pretrained=False)\n",
    "\n",
    "newnet = gem.Classifier(resnet18, trainsubset.classes(label), enable_cuda=True)\n"
   ]
  },
  {
   "cell_type": "code",
   "execution_count": null,
   "metadata": {},
   "outputs": [
    {
     "name": "stdout",
     "output_type": "stream",
     "text": [
      "| Epoch | Avg. loss | Train Acc. | Test Acc.  | Elapsed  |   ETA    |\n",
      "|-------+-----------+------------+------------+----------+----------|\n"
     ]
    }
   ],
   "source": [
    "\n",
    "newnet.train(trainsubset, test_dataset=testsubset, epochs=30, verbosity=2)\n",
    "\n",
    "newnet.evaluate(testsubset, verbosity=2)\n"
   ]
  },
  {
   "cell_type": "markdown",
   "metadata": {},
   "source": [
    "Once we are satisfied the with networks performance, we can write it back to the node and save it."
   ]
  },
  {
   "cell_type": "code",
   "execution_count": 93,
   "metadata": {},
   "outputs": [
    {
     "name": "stdout",
     "output_type": "stream",
     "text": [
      "/mnt/SharedStor/trees/dx_tree/FOOT/StudyDescription.gemnode\n"
     ]
    }
   ],
   "source": [
    "print(node.file_path)"
   ]
  },
  {
   "cell_type": "code",
   "execution_count": 86,
   "metadata": {},
   "outputs": [],
   "source": [
    "\n",
    "node.classifier = newnet\n",
    "\n",
    "node.save()\n"
   ]
  },
  {
   "cell_type": "markdown",
   "metadata": {},
   "source": [
    "Now when, evaluating the tree again, we can see that the accuracy of node 2 improved!"
   ]
  },
  {
   "cell_type": "code",
   "execution_count": 87,
   "metadata": {},
   "outputs": [
    {
     "name": "stdout",
     "output_type": "stream",
     "text": [
      "|  Node | Depth | Parents              |  Classes |  Test size |   Test acc | \n",
      "|-------+-------+----------------------+----------+------------+------------|\n",
      "|     1 |     1 | .                    |       20 |       1200 |     99.92% | \n",
      "|     2 |     1 | FOOT                 |       13 |        151 |     11.92% | \n",
      "|     3 |     1 | PELVIS               |       13 |         60 |     100.0% | \n",
      "|     4 |     1 | SKULL                |        2 |          3 |     100.0% | \n",
      "|     5 |     1 | SHOULDER             |       17 |        102 |       0.0% | \n",
      "|     6 |     1 | TSPINE               |        3 |          9 |       0.0% | \n",
      "|     7 |     1 | CSPINE               |        1 |         23 |     100.0% | \n",
      "|     8 |     1 | CLAVICLE             |        5 |          1 |       0.0% | \n",
      "|     9 |     1 | SSPINE               |        1 |          0 |       N/A% | \n",
      "|    10 |     1 | ARM                  |        3 |          3 |       0.0% | \n",
      "|    11 |     1 | ANKLE                |        9 |         16 |       0.0% | \n",
      "|    12 |     1 | KNEE                 |       15 |        152 |      2.63% | \n",
      "|    13 |     1 | LSPINE               |        5 |         36 |       0.0% | \n",
      "|    14 |     1 | LEG                  |        3 |          2 |       0.0% | \n",
      "|    15 |     1 | ABDOMEN              |        3 |          7 |       0.0% | \n",
      "|    16 |     1 | ELBOW                |       14 |         92 |       0.0% | \n",
      "|    17 |     1 | HAND                 |       17 |         43 |       0.0% | \n",
      "|    18 |     1 | HIP                  |       10 |         63 |      1.59% | \n",
      "|    19 |     1 | VERTEBRAL COLUMN     |        8 |         55 |      40.0% | \n",
      "|    20 |     1 | EXTREMITY            |       20 |         85 |      3.53% | \n",
      "|    21 |     1 | CHEST                |       14 |        297 |      2.69% | \n"
     ]
    }
   ],
   "source": [
    "\n",
    "tree.evaluate(testset)\n"
   ]
  }
 ],
 "metadata": {
  "kernelspec": {
   "display_name": "Python 3",
   "language": "python",
   "name": "python3"
  },
  "language_info": {
   "codemirror_mode": {
    "name": "ipython",
    "version": 3
   },
   "file_extension": ".py",
   "mimetype": "text/x-python",
   "name": "python",
   "nbconvert_exporter": "python",
   "pygments_lexer": "ipython3",
   "version": "3.8.5"
  }
 },
 "nbformat": 4,
 "nbformat_minor": 4
}
