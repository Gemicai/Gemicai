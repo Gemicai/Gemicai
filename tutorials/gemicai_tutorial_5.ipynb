{
 "cells": [
  {
   "cell_type": "markdown",
   "metadata": {},
   "source": [
    "# Gemicai tutorial 5: Advanced ClassifierTree\n",
    "In this tutorial we'll go a bit more in depth about what the ClassifierTree can do."
   ]
  },
  {
   "cell_type": "code",
   "execution_count": 1,
   "metadata": {},
   "outputs": [],
   "source": [
    "import gemicai as gem\n",
    "import torch\n",
    "import torchvision.models as models"
   ]
  },
  {
   "cell_type": "markdown",
   "metadata": {},
   "source": [
    "## 5.1 Recap\n",
    "In the previous tutorial, we have learned about the concept and core functionality of ClassifierTree, in this tutorial, we'll go more in depth on how to actually make it work. But first, a quick recap of everything we need from tutorial 4.\n",
    "\n",
    "### Load tree\n",
    "In this example we'll be taking a look at the ClassifierTree that determines the StudyDescription for images from the DX modality."
   ]
  },
  {
   "cell_type": "code",
   "execution_count": 2,
   "metadata": {},
   "outputs": [
    {
     "name": "stdout",
     "output_type": "stream",
     "text": [
      "|   Depth | Label            |   Classifiers |   Avg. classes |\n",
      "|---------+------------------+---------------+----------------|\n",
      "|       0 | BodyPartExamined |             1 |           19   |\n",
      "|       1 | StudyDescription |            20 |            9.2 |\n",
      "\n"
     ]
    }
   ],
   "source": [
    "tree_path = '/mnt/SharedStor/trees/dx_tree'\n",
    "\n",
    "tree = gem.ClassifierTree.from_dir(tree_path)\n",
    "\n",
    "print(tree)"
   ]
  },
  {
   "cell_type": "markdown",
   "metadata": {},
   "source": [
    "### Initialize gemsets\n",
    "To train and evaluate a tree, we first need to create a training- and test-dataset"
   ]
  },
  {
   "cell_type": "code",
   "execution_count": 3,
   "metadata": {},
   "outputs": [],
   "source": [
    "relevant_labels = ['BodyPartExamined', 'StudyDescription']\n",
    "\n",
    "train_path = '/mnt/SharedStor/gemset/DX/train'\n",
    "test_path = '/mnt/SharedStor/gemset/DX/test'\n",
    "\n",
    "trainset = gem.DicomoDataset.get_dicomo_dataset(train_path, relevant_labels)\n",
    "testset = gem.DicomoDataset.get_dicomo_dataset(test_path, relevant_labels)"
   ]
  },
  {
   "cell_type": "markdown",
   "metadata": {},
   "source": [
    "### Evaluate tree\n",
    "With this evaluation we can inspect the performance of individual nodes."
   ]
  },
  {
   "cell_type": "code",
   "execution_count": 4,
   "metadata": {},
   "outputs": [
    {
     "name": "stdout",
     "output_type": "stream",
     "text": [
      "|  Node | Depth | Parents              |  Classes |  Test size |   Test acc | \n",
      "|-------+-------+----------------------+----------+------------+------------|\n",
      "|     1 |     0 | .                    |       21 |       1904 |     91.65% | \n",
      "|     2 |     1 | FOOT                 |       12 |        192 |     81.25% | \n",
      "|     3 |     1 | PELVIS               |       13 |        102 |      59.8% | \n",
      "|     4 |     1 | SKULL                |        2 |          8 |      87.5% | \n",
      "|     5 |     1 | SHOULDER             |       16 |        135 |     61.48% | \n",
      "|     6 |     1 | TSPINE               |        3 |         19 |     84.21% | \n",
      "|     7 |     1 | CSPINE               |        1 |         30 |     100.0% | \n",
      "|     8 |     1 | CLAVICLE             |        5 |          5 |     100.0% | \n",
      "|     9 |     1 | SSPINE               |        1 |          0 |       N/A% | \n",
      "|    10 |     1 | ARM                  |        4 |          2 |     100.0% | \n",
      "|    11 |     1 | ANKLE                |       10 |         26 |     61.54% | \n",
      "|    12 |     1 | KNEE                 |       16 |        243 |     47.74% | \n",
      "|    13 |     1 | LSPINE               |        4 |         48 |     97.92% | \n",
      "|    14 |     1 | LEG                  |        4 |          8 |     100.0% | \n",
      "|    15 |     1 | ABDOMEN              |        4 |         15 |     100.0% | \n",
      "|    16 |     1 | ELBOW                |       16 |        121 |     58.68% | \n",
      "|    17 |     1 | HAND                 |       17 |         67 |     58.21% | \n",
      "|    18 |     1 | HIP                  |        9 |         97 |     62.89% | \n",
      "|    19 |     1 | VERTEBRAL COLUMN     |        8 |         89 |     83.15% | \n",
      "|    20 |     1 | EXTREMITY            |       22 |        167 |     64.67% | \n",
      "|    21 |     1 | CHEST                |       16 |        479 |     89.77% | \n"
     ]
    }
   ],
   "source": [
    "tree.evaluate(testset)"
   ]
  },
  {
   "cell_type": "markdown",
   "metadata": {},
   "source": [
    "## 5.2 Tweaking individual nodes in the tree\n",
    "To get the best overall performance for a ClassifierTree, it is important that all nodes function accurately. From the evaluation we can see that node 3, (the one that classifies the StudyDescription of Pelvis images) appears to not be performing very well. To train this individual node, we first need to find it's path"
   ]
  },
  {
   "cell_type": "code",
   "execution_count": 5,
   "metadata": {},
   "outputs": [
    {
     "name": "stdout",
     "output_type": "stream",
     "text": [
      "<class 'gemicai.Classifier.Classifier'>\n",
      "['Bekken', 'Femur rechts', 'Bekken+heup links', 'Bekken+heup rechts', 'Coccygis', 'Heup rechts', 'Bekken+heup beiderzijds', 'Heup links', 'Bekken kind', 'Heupen baby', 'Sacrum', 'Heup beiderzijds kind', 'Bekken+heup beiderzijds kind']\n"
     ]
    }
   ],
   "source": [
    "# By default the filename of the node is <node.label>.gemnode\n",
    "node_path = '/mnt/SharedStor/trees/dx_tree/PELVIS/StudyDescription.gemnode'\n",
    "\n",
    "node = gem.ClassifierNode.from_file(node_path)\n",
    "\n",
    "# Select neural network from the node\n",
    "net = node.classifier\n",
    "\n",
    "# As you can see, node.classifier is an instance of Gemicai.Classifier\n",
    "print(type(net))\n",
    "\n",
    "# The classifiers' classes\n",
    "print(net.classes)"
   ]
  },
  {
   "cell_type": "markdown",
   "metadata": {},
   "source": [
    "As you can see, net is an instance of Gemicai.Classifier, we already know how to train a Classifier! For more information about Gemicai.Classifier see tutorial 2. "
   ]
  },
  {
   "cell_type": "markdown",
   "metadata": {},
   "source": [
    "### Create train- and test-subset\n",
    "To train an individual node in the tree, first create subsets that only contain data relevant for that specific node. "
   ]
  },
  {
   "cell_type": "code",
   "execution_count": 6,
   "metadata": {},
   "outputs": [
    {
     "name": "stdout",
     "output_type": "stream",
     "text": [
      "| Class (StudyDescription)     |   Frequency |\n",
      "|------------------------------+-------------|\n",
      "| Bekken+heup links            |         112 |\n",
      "| Bekken                       |          86 |\n",
      "| Bekken+heup beiderzijds      |          33 |\n",
      "| Bekken+heup rechts           |          92 |\n",
      "| Bekken kind                  |           8 |\n",
      "| Heupen baby                  |           9 |\n",
      "| Heup rechts                  |           1 |\n",
      "| Coccygis                     |           7 |\n",
      "| Sacrum                       |           1 |\n",
      "| Bekken+heup beiderzijds kind |           1 |\n",
      "| Femur rechts                 |           1 |\n",
      "| Heup links                   |           1 |\n",
      "| Heup beiderzijds kind        |           1 |\n",
      "| Femur links                  |           1 |\n",
      "\n",
      "Total number of training images: 354 \n",
      "Total number of classes: 14\n",
      "\n",
      "| Class (StudyDescription)   |   Frequency |\n",
      "|----------------------------+-------------|\n",
      "| Bekken                     |          28 |\n",
      "| Bekken+heup rechts         |          30 |\n",
      "| Bekken kind                |           2 |\n",
      "| Bekken+heup links          |          28 |\n",
      "| Bekken+heup beiderzijds    |          11 |\n",
      "| Heupen baby                |           2 |\n",
      "| Sacrum                     |           1 |\n",
      "\n",
      "Total number of training images: 102 \n",
      "Total number of classes: 7\n",
      "\n"
     ]
    }
   ],
   "source": [
    "constraints = {\n",
    "    'BodyPartExamined': 'PELVIS'\n",
    "}\n",
    "\n",
    "label = 'StudyDescription'\n",
    "\n",
    "trainsubset = trainset.subset(constraints)[label]\n",
    "testsubset = testset.subset(constraints)[label]\n",
    "\n",
    "trainsubset.summarize(label)\n",
    "testsubset.summarize(label)"
   ]
  },
  {
   "cell_type": "markdown",
   "metadata": {},
   "source": [
    "### Train existing node\n",
    "Now that we've constructed a training subset and a testsubset, we can train the node."
   ]
  },
  {
   "cell_type": "code",
   "execution_count": 7,
   "metadata": {},
   "outputs": [
    {
     "name": "stdout",
     "output_type": "stream",
     "text": [
      "| Epoch | Avg. loss | Train Acc. | Test Acc.  | Elapsed  |   ETA    |\n",
      "|-------+-----------+------------+------------+----------+----------|\n",
      "|     1 | 0.0185672 | -          | -          | 00:00:08 | 18:40:16 |\n",
      "|     2 | 0.0074461 | -          | -          | 00:00:08 | 18:40:16 |\n",
      "|     3 | 0.0084622 | -          | -          | 00:00:08 | 18:40:16 |\n",
      "|     4 | 0.0058611 | -          | -          | 00:00:08 | 18:40:16 |\n",
      "|     5 | 0.0030107 | -          | -          | 00:00:08 | 18:40:16 |\n",
      "Training finished, total time elapsed: 0:00:44.239242\n",
      "\n",
      "| Epoch | Avg. loss | Train Acc. | Test Acc.  | Elapsed  |   ETA    |\n",
      "|-------+-----------+------------+------------+----------+----------|\n",
      "|     1 | 0.0016090 | 81.14%     | 55.88%     | 00:00:20 | 18:42:10 |\n",
      "|     2 | 0.1640995 | 64.86%     | 58.82%     | 00:00:20 | 18:42:10 |\n",
      "|     3 | 0.0858445 | 86.86%     | 66.67%     | 00:00:20 | 18:42:10 |\n",
      "|     4 | 0.0515062 | 77.71%     | 62.75%     | 00:00:20 | 18:42:10 |\n",
      "|     5 | 0.0378983 | 84.29%     | 70.59%     | 00:00:20 | 18:42:10 |\n",
      "Training finished, total time elapsed: 0:01:41.604757\n",
      "\n"
     ]
    }
   ],
   "source": [
    "# Verbosity=1 means no train acc or test acc will be calculated after every epoch. This reduces training time.\n",
    "net.train(trainsubset, epochs=5, verbosity=1)\n",
    "\n",
    "# Verbosity=2 means train acc will be calcuated after every epoch. (And also for a test set if passed as argument)\n",
    "net.train(trainsubset, test_dataset=testsubset, epochs=5, verbosity=2)\n"
   ]
  },
  {
   "cell_type": "markdown",
   "metadata": {},
   "source": [
    "### Re-evaluate node"
   ]
  },
  {
   "cell_type": "code",
   "execution_count": 8,
   "metadata": {},
   "outputs": [
    {
     "name": "stdout",
     "output_type": "stream",
     "text": [
      "| <class 'list'> | <class 'list'> | <class 'list'> |\n",
      "| Class                        |   Total |   Correct | Acc    |\n",
      "|------------------------------+---------+-----------+--------|\n",
      "| Bekken                       |      28 |        24 | 85.7%  |\n",
      "| Femur rechts                 |       0 |         0 | -      |\n",
      "| Bekken+heup links            |      28 |        17 | 60.7%  |\n",
      "| Bekken+heup rechts           |      30 |        23 | 76.7%  |\n",
      "| Coccygis                     |       0 |         0 | -      |\n",
      "| Heup rechts                  |       0 |         0 | -      |\n",
      "| Bekken+heup beiderzijds      |      11 |         5 | 45.5%  |\n",
      "| Heup links                   |       0 |         0 | -      |\n",
      "| Bekken kind                  |       2 |         1 | 50.0%  |\n",
      "| Heupen baby                  |       2 |         2 | 100.0% |\n",
      "| Sacrum                       |       1 |         0 | 0.0%   |\n",
      "| Heup beiderzijds kind        |       0 |         0 | -      |\n",
      "| Bekken+heup beiderzijds kind |       0 |         0 | -      | \n",
      "\n"
     ]
    },
    {
     "data": {
      "text/plain": [
       "(70.59, 102, 72)"
      ]
     },
     "execution_count": 8,
     "metadata": {},
     "output_type": "execute_result"
    }
   ],
   "source": [
    "net.evaluate(testsubset, verbosity=2)"
   ]
  },
  {
   "cell_type": "markdown",
   "metadata": {},
   "source": [
    "Once we're satisfied with the nodes performance, all we have to do is save it. We can then re-evaluate the tree and see that the accuracy of node 3 indeed has increased!"
   ]
  },
  {
   "cell_type": "code",
   "execution_count": 9,
   "metadata": {},
   "outputs": [
    {
     "name": "stdout",
     "output_type": "stream",
     "text": [
      "|  Node | Depth | Parents              |  Classes |  Test size |   Test acc | \n",
      "|-------+-------+----------------------+----------+------------+------------|\n",
      "|     1 |     0 | .                    |       21 |       1904 |     91.65% | \n",
      "|     2 |     1 | FOOT                 |       12 |        192 |     81.25% | \n",
      "|     3 |     1 | PELVIS               |       13 |        102 |     70.59% | \n",
      "|     4 |     1 | SKULL                |        2 |          8 |      87.5% | \n",
      "|     5 |     1 | SHOULDER             |       16 |        135 |     61.48% | \n",
      "|     6 |     1 | TSPINE               |        3 |         19 |     84.21% | \n",
      "|     7 |     1 | CSPINE               |        1 |         30 |     100.0% | \n",
      "|     8 |     1 | CLAVICLE             |        5 |          5 |     100.0% | \n",
      "|     9 |     1 | SSPINE               |        1 |          0 |       N/A% | \n",
      "|    10 |     1 | ARM                  |        4 |          2 |     100.0% | \n",
      "|    11 |     1 | ANKLE                |       10 |         26 |     61.54% | \n",
      "|    12 |     1 | KNEE                 |       16 |        243 |     47.74% | \n",
      "|    13 |     1 | LSPINE               |        4 |         48 |     97.92% | \n",
      "|    14 |     1 | LEG                  |        4 |          8 |     100.0% | \n",
      "|    15 |     1 | ABDOMEN              |        4 |         15 |     100.0% | \n",
      "|    16 |     1 | ELBOW                |       16 |        121 |     58.68% | \n",
      "|    17 |     1 | HAND                 |       17 |         67 |     58.21% | \n",
      "|    18 |     1 | HIP                  |        9 |         97 |     62.89% | \n",
      "|    19 |     1 | VERTEBRAL COLUMN     |        8 |         89 |     83.15% | \n",
      "|    20 |     1 | EXTREMITY            |       22 |        167 |     64.67% | \n",
      "|    21 |     1 | CHEST                |       16 |        479 |     89.77% | \n"
     ]
    }
   ],
   "source": [
    "node.save()\n",
    "\n",
    "tree.evaluate(testset)"
   ]
  },
  {
   "cell_type": "markdown",
   "metadata": {},
   "source": [
    "## 5.3 Additional techniques for improved performance"
   ]
  },
  {
   "cell_type": "markdown",
   "metadata": {},
   "source": [
    "### Class selection\n",
    "If the classifier is still not up to the desired performance, try reconsidering the selected classes. Sometimes classes can have to much overlap with others, which makes it difficult for the AI to recognize, but also has less significance to classify in the first place. To illustrate this point, lets plot a confusion matrix for node 1."
   ]
  },
  {
   "cell_type": "code",
   "execution_count": 10,
   "metadata": {},
   "outputs": [
    {
     "name": "stdout",
     "output_type": "stream",
     "text": [
      "| <class 'list'> | <class 'list'> | <class 'list'> |\n",
      "| Class            |   Total |   Correct | Acc    |\n",
      "|------------------+---------+-----------+--------|\n",
      "| VERTEBRAL COLUMN |      89 |        76 | 85.4%  |\n",
      "| CHEST            |     479 |       471 | 98.3%  |\n",
      "| KNEE             |     247 |       239 | 96.8%  |\n",
      "| EXTREMITY        |     167 |       124 | 74.3%  |\n",
      "| PELVIS           |     102 |        98 | 96.1%  |\n",
      "| TSPINE           |      19 |        13 | 68.4%  |\n",
      "| FOOT             |     223 |       211 | 94.6%  |\n",
      "| SHOULDER         |     139 |       133 | 95.7%  |\n",
      "| LSPINE           |      51 |        46 | 90.2%  |\n",
      "| ELBOW            |     121 |       107 | 88.4%  |\n",
      "| HIP              |     101 |        92 | 91.1%  |\n",
      "| CSPINE           |      30 |        26 | 86.7%  |\n",
      "| ANKLE            |      26 |        20 | 76.9%  |\n",
      "| HAND             |      67 |        53 | 79.1%  |\n",
      "| CLAVICLE         |       5 |         4 | 80.0%  |\n",
      "| ABDOMEN          |      19 |        15 | 78.9%  |\n",
      "| SKULL            |       8 |         8 | 100.0% |\n",
      "| ARM              |       2 |         1 | 50.0%  |\n",
      "| LEG              |       9 |         8 | 88.9%  |\n",
      "| SSPINE           |       0 |         0 | -      |\n",
      "|                  |       0 |         0 | -      | \n",
      "\n"
     ]
    },
    {
     "data": {
      "text/plain": [
       "(91.65, 1904, 1745)"
      ]
     },
     "execution_count": 10,
     "metadata": {},
     "output_type": "execute_result"
    },
    {
     "data": {
      "image/png": "[encoded data removed]",
      "text/plain": [
       "<Figure size 864x864 with 1 Axes>"
      ]
     },
     "metadata": {
      "needs_background": "light"
     },
     "output_type": "display_data"
    }
   ],
   "source": [
    "# Node 1 is the root of the DX tree\n",
    "node = tree.root\n",
    "\n",
    "# Label is an attribute of node, and in this case label == \"BodyPartExamined\"\n",
    "label = node.label\n",
    "\n",
    "# Set plot_cm=True to plot a confusion matrix\n",
    "node.classifier.evaluate(testset[label], verbosity=2, plot_cm=True)"
   ]
  },
  {
   "cell_type": "markdown",
   "metadata": {},
   "source": [
    "From the confusion matrix we can see that the classifier struggles with the class \"EXTREMITY\" and often incorrectly classifies it as \"KNEE\", \"ELBOW\", \"ANKLE\" or \"HAND\". The aformentioned classes also have \"EXTREMITY\" as their most common misclassification. What is going on here? To further investigate, we make a summary of the StudyDescription of all images with BodyPartExamined == \"EXTREMITY\""
   ]
  },
  {
   "cell_type": "code",
   "execution_count": 11,
   "metadata": {},
   "outputs": [
    {
     "name": "stdout",
     "output_type": "stream",
     "text": [
      "| Class (StudyDescription)       |   Frequency |\n",
      "|--------------------------------+-------------|\n",
      "| Vinger rechts                  |          78 |\n",
      "| Hand rechts                    |          88 |\n",
      "| Enkel rechts                   |           5 |\n",
      "| Humerus links                  |           4 |\n",
      "| Hand links                     |          53 |\n",
      "| Lengteprognose handwortel      |           3 |\n",
      "| Onderbeen rechts               |          31 |\n",
      "| Vinger links                   |          95 |\n",
      "| Hand beiderzijds               |          64 |\n",
      "| Onderbeen links                |          37 |\n",
      "| Femur rechts                   |          21 |\n",
      "| Pols links                     |           2 |\n",
      "| Femur links                    |          13 |\n",
      "| Onderarm links                 |           8 |\n",
      "| Onderarm rechts                |          12 |\n",
      "| Humerus rechts                 |           5 |\n",
      "| Enkel links                    |           4 |\n",
      "| Schouder links                 |           1 |\n",
      "| Lengteprognose handwortel kind |           3 |\n",
      "| Hand links kind                |           1 |\n",
      "| Heup links                     |           2 |\n",
      "| Elleboog rechts                |           2 |\n",
      "\n",
      "Total number of training images: 532 \n",
      "Total number of classes: 22\n",
      "\n"
     ]
    }
   ],
   "source": [
    "trainset.subset({label: 'EXTREMITY'}).summarize('StudyDescription')"
   ]
  },
  {
   "cell_type": "markdown",
   "metadata": {},
   "source": [
    "From this summary it appears the EXTREMITY class has overlap with muliple other classes. E.g. \"Vinger rechts\" is also a class of the node 17 (where BodyPartExamined == \"HAND\")."
   ]
  },
  {
   "cell_type": "markdown",
   "metadata": {},
   "source": [
    "This means the class \"EXTREMITY\" appears to have no added value, and should therefore not be classified. When making changes to the classes of the node (or other changes that have impact on the classifiers architecture) you should assign a new classifier to the node. However, let's first create a list of classes you want to classify, and new training- and test-datasets that only contain the wanted classes."
   ]
  },
  {
   "cell_type": "code",
   "execution_count": 12,
   "metadata": {},
   "outputs": [],
   "source": [
    "classes = node.classifier.classes.copy()\n",
    "\n",
    "# Remove unwanted classes\n",
    "classes.remove('EXTREMITY')\n",
    "classes.remove('')\n",
    "\n",
    "constraints = {label: classes}\n",
    "\n",
    "trainsubset = trainset.subset(constraints)[label]\n",
    "testsubset = testset.subset(constraints)[label]\n",
    "\n",
    "# When doing this, the removed classes will be automatically excluded from evaluation and training data\n",
    "node.dataset_constraints = constraints"
   ]
  },
  {
   "cell_type": "markdown",
   "metadata": {},
   "source": [
    "### Assign new Classifier to Node\n",
    "If you want, you can assign a whole new classifier to the node. First train the new and improved Classifier, then assign it to the node's classifier, then save the node. In this example we'll create a new classifier for node 1."
   ]
  },
  {
   "cell_type": "code",
   "execution_count": 13,
   "metadata": {},
   "outputs": [],
   "source": [
    "resnet18 = models.resnet18(pretrained=False)\n",
    "\n",
    "newnet = gem.Classifier(resnet18, classes, enable_cuda=True)"
   ]
  },
  {
   "cell_type": "code",
   "execution_count": 14,
   "metadata": {},
   "outputs": [
    {
     "name": "stdout",
     "output_type": "stream",
     "text": [
      "| Epoch | Avg. loss | Train Acc. | Test Acc.  | Elapsed  |   ETA    |\n",
      "|-------+-----------+------------+------------+----------+----------|\n",
      "|     1 | 0.2316816 | 72.39%     | 69.72%     | 00:01:08 | 03:26:51 |\n",
      "|     2 | 0.1568038 | 66.22%     | 63.96%     | 00:01:03 | 03:24:11 |\n",
      "|     3 | 0.1017881 | 76.68%     | 73.63%     | 00:01:03 | 03:24:12 |\n",
      "|     4 | 0.0744112 | 87.1%      | 84.4%      | 00:01:03 | 03:24:09 |\n",
      "|     5 | 0.0563215 | 85.16%     | 83.25%     | 00:01:03 | 03:24:08 |\n",
      "|     6 | 0.0435241 | 84.56%     | 83.65%     | 00:01:02 | 03:24:05 |\n",
      "|     7 | 0.0347510 | 93.96%     | 90.16%     | 00:01:03 | 03:24:19 |\n",
      "|     8 | 0.0285379 | 92.9%      | 89.29%     | 00:01:03 | 03:24:20 |\n",
      "|     9 | 0.0262555 | 95.34%     | 92.0%      | 00:01:03 | 03:24:13 |\n",
      "|    10 | 0.0196338 | 96.64%     | 92.0%      | 00:01:03 | 03:24:10 |\n",
      "|    11 | 0.0152638 | 97.37%     | 92.17%     | 00:01:02 | 03:24:02 |\n",
      "|    12 | 0.0123829 | 97.59%     | 93.09%     | 00:01:02 | 03:24:07 |\n",
      "|    13 | 0.0095992 | 97.84%     | 93.09%     | 00:01:02 | 03:24:02 |\n",
      "|    14 | 0.0099831 | 96.95%     | 91.82%     | 00:01:02 | 03:24:00 |\n",
      "|    15 | 0.0098115 | 93.51%     | 87.51%     | 00:01:02 | 03:24:01 |\n",
      "|    16 | 0.0083999 | 98.01%     | 92.46%     | 00:01:02 | 03:24:03 |\n",
      "|    17 | 0.0078047 | 98.57%     | 92.4%      | 00:01:02 | 03:24:03 |\n",
      "|    18 | 0.0051159 | 98.7%      | 92.57%     | 00:01:02 | 03:24:06 |\n",
      "|    19 | 0.0071491 | 98.16%     | 91.88%     | 00:01:02 | 03:24:03 |\n",
      "|    20 | 0.0044230 | 99.39%     | 93.84%     | 00:01:03 | 03:24:10 |\n",
      "|    21 | 0.0040162 | 99.59%     | 93.84%     | 00:01:02 | 03:24:06 |\n",
      "|    22 | 0.0023219 | 99.44%     | 93.96%     | 00:01:02 | 03:24:04 |\n",
      "|    23 | 0.0033277 | 99.72%     | 94.07%     | 00:01:02 | 03:24:04 |\n",
      "|    24 | 0.0024146 | 99.84%     | 94.36%     | 00:01:02 | 03:24:04 |\n",
      "|    25 | 0.0034762 | 99.7%      | 93.61%     | 00:01:02 | 03:24:03 |\n",
      "|    26 | 0.0022414 | 99.63%     | 93.55%     | 00:01:02 | 03:24:03 |\n",
      "|    27 | 0.0038839 | 98.56%     | 92.69%     | 00:01:02 | 03:24:04 |\n",
      "|    28 | 0.0010686 | 99.52%     | 93.03%     | 00:01:02 | 03:24:03 |\n",
      "|    29 | 0.0011921 | 99.96%     | 94.59%     | 00:01:02 | 03:24:03 |\n",
      "|    30 | 0.0002016 | 99.99%     | 94.65%     | 00:01:03 | 03:24:04 |\n",
      "Training finished, total time elapsed: 0:31:33.715729\n",
      "\n",
      "| <class 'list'> | <class 'list'> | <class 'list'> |\n",
      "| Class            |   Total |   Correct | Acc    |\n",
      "|------------------+---------+-----------+--------|\n",
      "| VERTEBRAL COLUMN |      89 |        75 | 84.3%  |\n",
      "| CHEST            |     479 |       472 | 98.5%  |\n",
      "| KNEE             |     247 |       242 | 98.0%  |\n",
      "| PELVIS           |     102 |       100 | 98.0%  |\n",
      "| TSPINE           |      19 |        12 | 63.2%  |\n",
      "| FOOT             |     223 |       218 | 97.8%  |\n",
      "| SHOULDER         |     139 |       135 | 97.1%  |\n",
      "| LSPINE           |      51 |        49 | 96.1%  |\n",
      "| ELBOW            |     121 |       111 | 91.7%  |\n",
      "| HIP              |     101 |        89 | 88.1%  |\n",
      "| CSPINE           |      30 |        27 | 90.0%  |\n",
      "| ANKLE            |      26 |        18 | 69.2%  |\n",
      "| HAND             |      67 |        60 | 89.6%  |\n",
      "| CLAVICLE         |       5 |         4 | 80.0%  |\n",
      "| ABDOMEN          |      19 |        16 | 84.2%  |\n",
      "| SKULL            |       8 |         8 | 100.0% |\n",
      "| ARM              |       2 |         1 | 50.0%  |\n",
      "| LEG              |       9 |         7 | 77.8%  |\n",
      "| SSPINE           |       0 |         0 | -      | \n",
      "\n"
     ]
    },
    {
     "data": {
      "text/plain": [
       "(94.65, 1737, 1644)"
      ]
     },
     "execution_count": 14,
     "metadata": {},
     "output_type": "execute_result"
    }
   ],
   "source": [
    "newnet.train(trainsubset, test_dataset=testsubset, epochs=30, verbosity=2)\n",
    "\n",
    "newnet.evaluate(testsubset, verbosity=2)"
   ]
  },
  {
   "cell_type": "markdown",
   "metadata": {},
   "source": [
    "Once we are satisfied the with networks performance, we can write it back to the node and save it."
   ]
  },
  {
   "cell_type": "code",
   "execution_count": 15,
   "metadata": {},
   "outputs": [],
   "source": [
    "node.classifier = newnet\n",
    "\n",
    "node.save()"
   ]
  },
  {
   "cell_type": "markdown",
   "metadata": {},
   "source": [
    "Now, when re-evaluating the tree, we can see that the accuracy of node 1 increased from 91.65% to 94.65%!"
   ]
  },
  {
   "cell_type": "code",
   "execution_count": 16,
   "metadata": {},
   "outputs": [
    {
     "name": "stdout",
     "output_type": "stream",
     "text": [
      "|  Node | Depth | Parents              |  Classes |  Test size |   Test acc | \n",
      "|-------+-------+----------------------+----------+------------+------------|\n",
      "|     1 |     0 | .                    |       19 |       1737 |     94.65% | \n",
      "|     2 |     1 | FOOT                 |       12 |        192 |     81.25% | \n",
      "|     3 |     1 | PELVIS               |       13 |        102 |     70.59% | \n",
      "|     4 |     1 | SKULL                |        2 |          8 |      87.5% | \n",
      "|     5 |     1 | SHOULDER             |       16 |        135 |     61.48% | \n",
      "|     6 |     1 | TSPINE               |        3 |         19 |     84.21% | \n",
      "|     7 |     1 | CSPINE               |        1 |         30 |     100.0% | \n",
      "|     8 |     1 | CLAVICLE             |        5 |          5 |     100.0% | \n",
      "|     9 |     1 | SSPINE               |        1 |          0 |       N/A% | \n",
      "|    10 |     1 | ARM                  |        4 |          2 |     100.0% | \n",
      "|    11 |     1 | ANKLE                |       10 |         26 |     61.54% | \n",
      "|    12 |     1 | KNEE                 |       16 |        243 |     47.74% | \n",
      "|    13 |     1 | LSPINE               |        4 |         48 |     97.92% | \n",
      "|    14 |     1 | LEG                  |        4 |          8 |     100.0% | \n",
      "|    15 |     1 | ABDOMEN              |        4 |         15 |     100.0% | \n",
      "|    16 |     1 | ELBOW                |       16 |        121 |     58.68% | \n",
      "|    17 |     1 | HAND                 |       17 |         67 |     58.21% | \n",
      "|    18 |     1 | HIP                  |        9 |         97 |     62.89% | \n",
      "|    19 |     1 | VERTEBRAL COLUMN     |        8 |         89 |     83.15% | \n",
      "|    20 |     1 | EXTREMITY            |       22 |        167 |     64.67% | \n",
      "|    21 |     1 | CHEST                |       16 |        479 |     89.77% | \n"
     ]
    }
   ],
   "source": [
    "tree.evaluate(testset)"
   ]
  },
  {
   "cell_type": "markdown",
   "metadata": {},
   "source": [
    "### Different models\n",
    "The classifiers of the nodes in the current tree are all based on ResNet18, which is a relatively lightweight classifier. If you can't seem to get good enough results with ResNet18, you can always try another (deeper) model, e.g. ResNext50."
   ]
  },
  {
   "cell_type": "code",
   "execution_count": 17,
   "metadata": {},
   "outputs": [
    {
     "name": "stdout",
     "output_type": "stream",
     "text": [
      "| Epoch | Avg. loss | Train Acc. | Test Acc.  | Elapsed  |   ETA    |\n",
      "|-------+-----------+------------+------------+----------+----------|\n",
      "|     1 | 0.3084344 | 39.78%     | 39.55%     | 00:02:38 | 04:46:02 |\n",
      "|     2 | 0.1883040 | 52.19%     | 50.37%     | 00:02:34 | 04:44:20 |\n",
      "|     3 | 0.1243360 | 73.38%     | 71.1%      | 00:02:34 | 04:44:20 |\n",
      "|     4 | 0.0987326 | 76.06%     | 73.34%     | 00:02:34 | 04:44:20 |\n",
      "|     5 | 0.0814267 | 78.88%     | 75.99%     | 00:02:34 | 04:44:21 |\n",
      "|     6 | 0.0681071 | 80.17%     | 77.09%     | 00:02:35 | 04:44:25 |\n",
      "|     7 | 0.0581189 | 81.87%     | 78.58%     | 00:02:34 | 04:44:15 |\n",
      "|     8 | 0.0504734 | 83.96%     | 80.25%     | 00:02:34 | 04:44:12 |\n",
      "|     9 | 0.0444217 | 85.57%     | 81.64%     | 00:02:34 | 04:44:19 |\n",
      "|    10 | 0.0399481 | 86.87%     | 82.79%     | 00:02:34 | 04:44:20 |\n",
      "|    11 | 0.0357404 | 88.64%     | 83.94%     | 00:02:40 | 04:46:15 |\n",
      "|    12 | 0.0310353 | 88.89%     | 84.17%     | 00:02:42 | 04:46:57 |\n",
      "|    13 | 0.0268408 | 90.2%      | 84.4%      | 00:02:35 | 04:44:40 |\n",
      "|    14 | 0.0241858 | 91.81%     | 85.72%     | 00:02:35 | 04:44:44 |\n",
      "|    15 | 0.0229773 | 91.84%     | 86.01%     | 00:02:35 | 04:44:42 |\n",
      "|    16 | 0.0199571 | 92.98%     | 87.33%     | 00:02:35 | 04:44:38 |\n",
      "|    17 | 0.0196034 | 90.5%      | 84.17%     | 00:02:35 | 04:44:41 |\n",
      "|    18 | 0.0161851 | 93.1%      | 86.76%     | 00:02:35 | 04:44:39 |\n",
      "|    19 | 0.0143834 | 94.88%     | 88.54%     | 00:02:35 | 04:44:38 |\n",
      "|    20 | 0.0128585 | 95.53%     | 89.0%      | 00:02:34 | 04:44:36 |\n",
      "|    21 | 0.0136773 | 92.77%     | 86.47%     | 00:02:35 | 04:44:38 |\n",
      "|    22 | 0.0100197 | 92.89%     | 87.33%     | 00:02:35 | 04:44:41 |\n",
      "|    23 | 0.0097550 | 98.33%     | 91.54%     | 00:02:34 | 04:44:36 |\n",
      "|    24 | 0.0106231 | 95.53%     | 89.35%     | 00:02:34 | 04:44:36 |\n",
      "|    25 | 0.0084677 | 96.16%     | 89.0%      | 00:02:35 | 04:44:38 |\n",
      "|    26 | 0.0081585 | 97.22%     | 89.98%     | 00:02:34 | 04:44:37 |\n",
      "|    27 | 0.0062032 | 97.76%     | 90.39%     | 00:02:35 | 04:44:41 |\n",
      "|    28 | 0.0052331 | 98.67%     | 91.48%     | 00:02:35 | 04:44:38 |\n",
      "|    29 | 0.0050230 | 97.61%     | 90.79%     | 00:02:35 | 04:44:38 |\n",
      "|    30 | 0.0085969 | 97.84%     | 90.96%     | 00:02:35 | 04:44:38 |\n",
      "Training finished, total time elapsed: 1:17:49.213661\n",
      "\n",
      "| <class 'list'> | <class 'list'> | <class 'list'> |\n",
      "| Class            |   Total |   Correct | Acc    |\n",
      "|------------------+---------+-----------+--------|\n",
      "| VERTEBRAL COLUMN |      89 |        67 | 75.3%  |\n",
      "| CHEST            |     479 |       457 | 95.4%  |\n",
      "| KNEE             |     247 |       232 | 93.9%  |\n",
      "| PELVIS           |     102 |       102 | 100.0% |\n",
      "| TSPINE           |      19 |        10 | 52.6%  |\n",
      "| FOOT             |     223 |       209 | 93.7%  |\n",
      "| SHOULDER         |     139 |       128 | 92.1%  |\n",
      "| LSPINE           |      51 |        50 | 98.0%  |\n",
      "| ELBOW            |     121 |       107 | 88.4%  |\n",
      "| HIP              |     101 |        87 | 86.1%  |\n",
      "| CSPINE           |      30 |        28 | 93.3%  |\n",
      "| ANKLE            |      26 |        14 | 53.8%  |\n",
      "| HAND             |      67 |        59 | 88.1%  |\n",
      "| CLAVICLE         |       5 |         4 | 80.0%  |\n",
      "| ABDOMEN          |      19 |        14 | 73.7%  |\n",
      "| SKULL            |       8 |         6 | 75.0%  |\n",
      "| ARM              |       2 |         0 | 0.0%   |\n",
      "| LEG              |       9 |         6 | 66.7%  |\n",
      "| SSPINE           |       0 |         0 | -      | \n",
      "\n"
     ]
    },
    {
     "data": {
      "text/plain": [
       "(90.96, 1737, 1580)"
      ]
     },
     "execution_count": 17,
     "metadata": {},
     "output_type": "execute_result"
    }
   ],
   "source": [
    "resnext50 = models.resnext50_32x4d(pretrained=False)\n",
    "\n",
    "net1 = gem.Classifier(resnext50, classes, enable_cuda=True)\n",
    "\n",
    "net1.train(trainsubset, test_dataset=testsubset, epochs=30, verbosity=2)\n",
    "\n",
    "net1.evaluate(testsubset, verbosity=2)"
   ]
  },
  {
   "cell_type": "markdown",
   "metadata": {},
   "source": [
    "### Transfer Learning\n",
    "You can load the all PyTorch models with pretrained parameters, this can save you a lot of time as you don't have to train your neural network from the ground up!"
   ]
  },
  {
   "cell_type": "code",
   "execution_count": 18,
   "metadata": {},
   "outputs": [
    {
     "name": "stdout",
     "output_type": "stream",
     "text": [
      "| Epoch | Avg. loss | Train Acc. | Test Acc.  | Elapsed  |   ETA    |\n",
      "|-------+-----------+------------+------------+----------+----------|\n",
      "|     1 | 0.1508600 | 88.66%     | 87.74%     | 00:02:38 | 06:04:10 |\n",
      "|     2 | 0.1498921 | 73.07%     | 72.48%     | 00:02:34 | 06:02:18 |\n",
      "|     3 | 0.0541149 | 94.61%     | 92.69%     | 00:02:34 | 06:02:23 |\n",
      "|     4 | 0.0279053 | 93.87%     | 91.94%     | 00:02:34 | 06:02:08 |\n",
      "|     5 | 0.0249703 | 96.75%     | 95.28%     | 00:02:34 | 06:02:10 |\n",
      "|     6 | 0.0181177 | 96.19%     | 94.53%     | 00:02:35 | 06:02:22 |\n",
      "|     7 | 0.0146085 | 97.73%     | 95.45%     | 00:02:35 | 06:02:22 |\n",
      "|     8 | 0.0117085 | 96.32%     | 94.24%     | 00:02:34 | 06:02:17 |\n",
      "|     9 | 0.0176489 | 97.56%     | 96.03%     | 00:02:34 | 06:02:14 |\n",
      "|    10 | 0.0098086 | 98.29%     | 95.97%     | 00:02:34 | 06:02:13 |\n",
      "|    11 | 0.0093976 | 98.33%     | 95.8%      | 00:02:34 | 06:02:15 |\n",
      "|    12 | 0.0092595 | 98.53%     | 96.03%     | 00:02:34 | 06:02:10 |\n",
      "|    13 | 0.0090389 | 98.08%     | 96.32%     | 00:02:34 | 06:02:15 |\n",
      "|    14 | 0.0071780 | 99.03%     | 96.72%     | 00:02:34 | 06:02:18 |\n",
      "|    15 | 0.0076232 | 98.69%     | 96.32%     | 00:02:34 | 06:02:16 |\n",
      "|    16 | 0.0087984 | 95.93%     | 92.63%     | 00:02:34 | 06:02:12 |\n",
      "|    17 | 0.0046045 | 99.62%     | 97.12%     | 00:02:34 | 06:02:16 |\n",
      "|    18 | 0.0054489 | 99.56%     | 96.66%     | 00:02:35 | 06:02:26 |\n",
      "|    19 | 0.0044208 | 99.49%     | 96.89%     | 00:02:35 | 06:02:21 |\n",
      "|    20 | 0.0020860 | 99.39%     | 96.72%     | 00:02:34 | 06:02:18 |\n",
      "|    21 | 0.0007541 | 99.92%     | 97.47%     | 00:02:34 | 06:02:16 |\n",
      "|    22 | 0.0005630 | 99.56%     | 96.43%     | 00:02:35 | 06:02:19 |\n",
      "|    23 | 0.0059301 | 99.53%     | 97.06%     | 00:02:34 | 06:02:17 |\n",
      "|    24 | 0.0021783 | 99.69%     | 97.41%     | 00:02:34 | 06:02:16 |\n",
      "|    25 | 0.0057511 | 99.77%     | 97.12%     | 00:02:37 | 06:02:34 |\n",
      "|    26 | 0.0053523 | 99.63%     | 96.78%     | 00:02:34 | 06:02:21 |\n",
      "|    27 | 0.0042487 | 86.69%     | 84.46%     | 00:02:34 | 06:02:20 |\n",
      "|    28 | 0.0039423 | 99.79%     | 96.66%     | 00:02:34 | 06:02:20 |\n",
      "|    29 | 0.0010625 | 99.35%     | 95.74%     | 00:02:35 | 06:02:21 |\n",
      "|    30 | 0.0005688 | 99.6%      | 96.66%     | 00:02:35 | 06:02:21 |\n",
      "Training finished, total time elapsed: 1:17:30.855958\n",
      "\n",
      "| <class 'list'> | <class 'list'> | <class 'list'> |\n",
      "| Class            |   Total |   Correct | Acc    |\n",
      "|------------------+---------+-----------+--------|\n",
      "| VERTEBRAL COLUMN |      89 |        81 | 91.0%  |\n",
      "| CHEST            |     479 |       478 | 99.8%  |\n",
      "| KNEE             |     247 |       244 | 98.8%  |\n",
      "| PELVIS           |     102 |       101 | 99.0%  |\n",
      "| TSPINE           |      19 |        12 | 63.2%  |\n",
      "| FOOT             |     223 |       217 | 97.3%  |\n",
      "| SHOULDER         |     139 |       136 | 97.8%  |\n",
      "| LSPINE           |      51 |        49 | 96.1%  |\n",
      "| ELBOW            |     121 |       120 | 99.2%  |\n",
      "| HIP              |     101 |        96 | 95.0%  |\n",
      "| CSPINE           |      30 |        29 | 96.7%  |\n",
      "| ANKLE            |      26 |        20 | 76.9%  |\n",
      "| HAND             |      67 |        63 | 94.0%  |\n",
      "| CLAVICLE         |       5 |         4 | 80.0%  |\n",
      "| ABDOMEN          |      19 |        18 | 94.7%  |\n",
      "| SKULL            |       8 |         8 | 100.0% |\n",
      "| ARM              |       2 |         0 | 0.0%   |\n",
      "| LEG              |       9 |         3 | 33.3%  |\n",
      "| SSPINE           |       0 |         0 | -      | \n",
      "\n"
     ]
    },
    {
     "data": {
      "text/plain": [
       "(96.66, 1737, 1679)"
      ]
     },
     "execution_count": 18,
     "metadata": {},
     "output_type": "execute_result"
    }
   ],
   "source": [
    "resnext50_pretrained = models.resnext50_32x4d(pretrained=True)\n",
    "\n",
    "net2 = gem.Classifier(resnext50_pretrained, classes, enable_cuda=True)\n",
    "\n",
    "net2.train(trainsubset, test_dataset=testsubset, epochs=30, verbosity=2)\n",
    "\n",
    "net2.evaluate(testsubset, verbosity=2)"
   ]
  },
  {
   "cell_type": "markdown",
   "metadata": {},
   "source": [
    "This seems to be the best beforming version so far, with an overal accuracy of 96.66%. The only classes that tend to score lower accuracies are those with limited data avaiaible, simply increasing the size of the dataset should even further improve the classifiers performance."
   ]
  },
  {
   "cell_type": "code",
   "execution_count": 19,
   "metadata": {},
   "outputs": [],
   "source": [
    "node.classifier = net2\n",
    "\n",
    "node.save()"
   ]
  }
 ],
 "metadata": {
  "kernelspec": {
   "display_name": "Python 3",
   "language": "python",
   "name": "python3"
  },
  "language_info": {
   "codemirror_mode": {
    "name": "ipython",
    "version": 3
   },
   "file_extension": ".py",
   "mimetype": "text/x-python",
   "name": "python",
   "nbconvert_exporter": "python",
   "pygments_lexer": "ipython3",
   "version": "3.8.5"
  }
 },
 "nbformat": 4,
 "nbformat_minor": 4
}
